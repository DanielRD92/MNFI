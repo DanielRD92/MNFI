{
 "cells": [
  {
   "cell_type": "markdown",
   "metadata": {},
   "source": [
    "\n",
    "# Numerical Methods in Finance\n",
    "@Author: Daniel Rodriguez Delgado \n",
    "\n",
    "@Date: 14/01/2019\n"
   ]
  },
  {
   "cell_type": "code",
   "execution_count": 2,
   "metadata": {},
   "outputs": [],
   "source": [
    "from math import *\n",
    "import numpy as np\n",
    "import pandas as pd\n",
    "from scipy.stats import kurtosis, skew, pearsonr\n",
    "import matplotlib.pyplot as plt\n",
    "import matplotlib.mlab as mlab"
   ]
  },
  {
   "cell_type": "markdown",
   "metadata": {},
   "source": [
    "## 1. Método congruencial\n"
   ]
  },
  {
   "cell_type": "code",
   "execution_count": 3,
   "metadata": {},
   "outputs": [
    {
     "data": {
      "text/plain": [
       "0.5030397279733045"
      ]
     },
     "metadata": {},
     "output_type": "display_data"
    },
    {
     "data": {
      "text/plain": [
       "0.08224965582494093"
      ]
     },
     "metadata": {},
     "output_type": "display_data"
    }
   ],
   "source": [
    "# Uniform distribution random generator\n",
    "def congru(seed, m=((2**31)-1), a=16807, b=0):\n",
    "        y=(a*seed+b)%m\n",
    "        u=y/m\n",
    "        return(u, y)\n",
    "\n",
    "N=1000\n",
    "u=[]\n",
    "seed=123456789\n",
    "for i in range(N):\n",
    "    x, seed=congru(seed)\n",
    "    u.append(x)\n",
    "    \n",
    "display(np.mean(u))\n",
    "display(np.var(u))\n"
   ]
  },
  {
   "cell_type": "markdown",
   "metadata": {},
   "source": [
    "## 2. Box-Müller\n"
   ]
  },
  {
   "cell_type": "code",
   "execution_count": 4,
   "metadata": {},
   "outputs": [
    {
     "name": "stdout",
     "output_type": "stream",
     "text": [
      "The mean and variance obtained by using cos are:\n"
     ]
    },
    {
     "data": {
      "text/plain": [
       "-0.008175040731787804"
      ]
     },
     "metadata": {},
     "output_type": "display_data"
    },
    {
     "data": {
      "text/plain": [
       "0.9976708276841265"
      ]
     },
     "metadata": {},
     "output_type": "display_data"
    },
    {
     "name": "stdout",
     "output_type": "stream",
     "text": [
      "The mean and variance obtained by using sin are:\n"
     ]
    },
    {
     "data": {
      "text/plain": [
       "0.02073007370335584"
      ]
     },
     "metadata": {},
     "output_type": "display_data"
    },
    {
     "data": {
      "text/plain": [
       "1.016781499194026"
      ]
     },
     "metadata": {},
     "output_type": "display_data"
    }
   ],
   "source": [
    "# Gaussian distribution random generator\n",
    "def boxmuller(seed, mu=0, sigma=1):\n",
    "    u1, seed=congru(seed)    #Uniform inputs\n",
    "    u2, seed=congru(seed)\n",
    "    \n",
    "    x=sqrt(-2*log(u1))*cos(2*pi*u2)*sigma+mu  #Gaussian numbers generation\n",
    "    y=sqrt(-2*log(u1))*sin(2*pi*u2)*sigma+mu\n",
    "    \n",
    "    antx=sqrt(-2*log(1-u1))*cos(2*pi*(1-u2))*sigma+mu  #Antithetic numbers generation\n",
    "    anty=sqrt(-2*log(1-u1))*sin(2*pi*(1-u2))*sigma+mu\n",
    "    return(x, y, u1, u2, antx, anty, seed)\n",
    "\n",
    "d=10000\n",
    "mu=0\n",
    "sigma=1\n",
    "coseno=[]\n",
    "seno=[]\n",
    "seed=123456789\n",
    "for i in range(d):\n",
    "    x, y, u1, u2, antx, anty, seed=boxmuller(seed, mu=mu, sigma=sigma)\n",
    "    coseno.append(x)\n",
    "    seno.append(y)\n",
    "print('The mean and variance obtained by using cos are:')    \n",
    "display(np.mean(coseno))\n",
    "display(np.var(coseno))\n",
    "print('The mean and variance obtained by using sin are:')    \n",
    "display(np.mean(seno))\n",
    "display(np.var(seno))    "
   ]
  },
  {
   "cell_type": "markdown",
   "metadata": {},
   "source": [
    "## 3. Método Marsaglia\n"
   ]
  },
  {
   "cell_type": "code",
   "execution_count": 5,
   "metadata": {},
   "outputs": [
    {
     "name": "stdout",
     "output_type": "stream",
     "text": [
      "Mean and variance of normal(0,1) set #1\n"
     ]
    },
    {
     "data": {
      "text/plain": [
       "0.009710243297013062"
      ]
     },
     "metadata": {},
     "output_type": "display_data"
    },
    {
     "data": {
      "text/plain": [
       "0.9884771984597215"
      ]
     },
     "metadata": {},
     "output_type": "display_data"
    },
    {
     "name": "stdout",
     "output_type": "stream",
     "text": [
      "Mean and variance of normal(0,1) set #2\n"
     ]
    },
    {
     "data": {
      "text/plain": [
       "-0.002328196698136957"
      ]
     },
     "metadata": {},
     "output_type": "display_data"
    },
    {
     "data": {
      "text/plain": [
       "0.9984206574199248"
      ]
     },
     "metadata": {},
     "output_type": "display_data"
    },
    {
     "name": "stdout",
     "output_type": "stream",
     "text": [
      "Mean and variance of normal(0,1) antithetic set #1\n"
     ]
    },
    {
     "data": {
      "text/plain": [
       "0.0"
      ]
     },
     "metadata": {},
     "output_type": "display_data"
    },
    {
     "data": {
      "text/plain": [
       "0.9885714872846088"
      ]
     },
     "metadata": {},
     "output_type": "display_data"
    },
    {
     "name": "stdout",
     "output_type": "stream",
     "text": [
      "Mean and variance of normal(0,1) antithetic set #2\n"
     ]
    },
    {
     "data": {
      "text/plain": [
       "-7.815970093361103e-18"
      ]
     },
     "metadata": {},
     "output_type": "display_data"
    },
    {
     "data": {
      "text/plain": [
       "0.9984260779197902"
      ]
     },
     "metadata": {},
     "output_type": "display_data"
    }
   ],
   "source": [
    "# Gaussian distribution random generator\n",
    "def marsaglia(seed, mu=0, sigma=1, mode='normal'):\n",
    "    \n",
    "    while True:\n",
    "        if mode=='normal':\n",
    "            u1, seed= congru(seed)\n",
    "            u2, seed= congru(seed)\n",
    "            v1=2*u1-1\n",
    "            v2=2*u2-1\n",
    "            R2=v1**2+v2**2\n",
    "            if R2<=1:\n",
    "                y=sqrt(-2*log(R2)/R2)\n",
    "                x1=v1*y*sigma+mu\n",
    "                x2=v2*y*sigma+mu\n",
    "                break\n",
    "        if mode=='antithetic':\n",
    "            u1, seed= congru(seed)\n",
    "            u2, seed= congru(seed)\n",
    "            v1=2*(1-u1)-1\n",
    "            v2=2*(1-u2)-1\n",
    "            R2=v1**2+v2**2\n",
    "            if R2<=1:\n",
    "                y=sqrt(-2*log(R2)/R2)\n",
    "                x1=v1*y*sigma+mu\n",
    "                x2=v2*y*sigma+mu\n",
    "                break\n",
    "        \n",
    "    return(x1,x2,seed)\n",
    "\n",
    "d=10000\n",
    "seed=123456789\n",
    "mu=0\n",
    "sigma=1\n",
    "v1=[]\n",
    "v2=[]\n",
    "for i in range(d):\n",
    "    x1, x2, seed = marsaglia(seed, mu, sigma, 'normal')\n",
    "    v1.append(x1)\n",
    "    v2.append(x2)\n",
    "print(\"Mean and variance of normal(0,1) set #1\")\n",
    "display(np.mean(v1))    \n",
    "display(np.var(v1))\n",
    "print(\"Mean and variance of normal(0,1) set #2\")\n",
    "display(np.mean(v2))    \n",
    "display(np.var(v2))\n",
    "\n",
    "seed=123456789\n",
    "for i in range(d):\n",
    "    x1, x2, seed = marsaglia(seed, mu, sigma, 'antithetic')\n",
    "    v1.append(x1)\n",
    "    v2.append(x2)\n",
    "\n",
    "print(\"Mean and variance of normal(0,1) antithetic set #1\")\n",
    "display(np.mean(v1))    \n",
    "display(np.var(v1))\n",
    "print(\"Mean and variance of normal(0,1) antithetic set #2\")\n",
    "display(np.mean(v2))    \n",
    "display(np.var(v2))\n",
    "    "
   ]
  },
  {
   "cell_type": "markdown",
   "metadata": {},
   "source": [
    "## 4. Gamma"
   ]
  },
  {
   "cell_type": "code",
   "execution_count": 6,
   "metadata": {},
   "outputs": [
    {
     "data": {
      "text/plain": [
       "6.055215535745461"
      ]
     },
     "metadata": {},
     "output_type": "display_data"
    },
    {
     "data": {
      "text/plain": [
       "12.266747540012203"
      ]
     },
     "metadata": {},
     "output_type": "display_data"
    }
   ],
   "source": [
    "# Gamma distribution random generator\n",
    "def gamma (p, a, seed):\n",
    "    v=[]\n",
    "    for i in range(p):\n",
    "        u, seed= congru(seed)\n",
    "        v.append(log(u))\n",
    "    x=-sum(v)/a\n",
    "    return(x, seed)\n",
    "p=3\n",
    "a=1/2\n",
    "N=10000\n",
    "res=[]\n",
    "seed=123456789\n",
    "for i in range(N):\n",
    "    x, seed=gamma(p, a, seed)\n",
    "    res.append(x)\n",
    "    \n",
    "display(np.mean(res))\n",
    "display(np.var(res))\n",
    "    "
   ]
  },
  {
   "cell_type": "markdown",
   "metadata": {},
   "source": [
    "## 5. Chi-Square"
   ]
  },
  {
   "cell_type": "code",
   "execution_count": 7,
   "metadata": {},
   "outputs": [
    {
     "data": {
      "text/plain": [
       "7.993775498960968"
      ]
     },
     "metadata": {},
     "output_type": "display_data"
    },
    {
     "data": {
      "text/plain": [
       "15.766478585145512"
      ]
     },
     "metadata": {},
     "output_type": "display_data"
    }
   ],
   "source": [
    "# Chi^2 distribution random generator\n",
    "def chisq (n, seed):\n",
    "    if (n%2==0):\n",
    "        g, seed=gamma(int(n/2), 1/2, seed)\n",
    "        return(g, seed)\n",
    "    else:\n",
    "        g, seed=gamma(int((n-1)/2), 1/2, seed)\n",
    "        cos1, sen1, u1, u2, antx, anty, seed = boxmuller(seed)\n",
    "        x=g+sen1**2\n",
    "    return(x, seed)\n",
    "\n",
    "n=8\n",
    "N=10000\n",
    "v=[]\n",
    "for i in range(N):\n",
    "    x, seed=chisq(n, seed)\n",
    "    v.append(x)\n",
    "\n",
    "display(np.mean(v))\n",
    "display(np.var(v))"
   ]
  },
  {
   "cell_type": "markdown",
   "metadata": {},
   "source": [
    "## 6. t-Student\n"
   ]
  },
  {
   "cell_type": "code",
   "execution_count": 8,
   "metadata": {},
   "outputs": [
    {
     "data": {
      "text/plain": [
       "-0.015506295476429705"
      ]
     },
     "metadata": {},
     "output_type": "display_data"
    },
    {
     "data": {
      "text/plain": [
       "1.2562393199457704"
      ]
     },
     "metadata": {},
     "output_type": "display_data"
    }
   ],
   "source": [
    "# t-Student distribution random generator\n",
    "def tstudent (n, seed):\n",
    "    cos1, sen1, u1, u2, antx, anty, seed=boxmuller(seed)\n",
    "    xchi, seed=chisq(n, seed)\n",
    "    x=sen1/sqrt(xchi/n)\n",
    "    return(x, seed)\n",
    "\n",
    "n=10\n",
    "N=10000\n",
    "v=[]\n",
    "for i in range(N):\n",
    "    x, seed=tstudent(n, seed)\n",
    "    v.append(x)\n",
    "\n",
    "display(np.mean(v))\n",
    "display(np.var(v))\n"
   ]
  },
  {
   "cell_type": "markdown",
   "metadata": {},
   "source": [
    "## Random numbers"
   ]
  },
  {
   "cell_type": "code",
   "execution_count": 10,
   "metadata": {},
   "outputs": [],
   "source": [
    "# Random numbers DataFrame by Box-Muller method\n",
    "N=100\n",
    "coseno=[]\n",
    "seno=[]\n",
    "U1=[]\n",
    "U2=[]\n",
    "ANcos=[]\n",
    "ANsin=[]\n",
    "seed=123456789\n",
    "\n",
    "for i in range(N):\n",
    "    x, y, u1, u2, antx, anty, seed=boxmuller(seed, mu=mu, sigma=sigma)\n",
    "    coseno.append(x)\n",
    "    seno.append(y)\n",
    "    U1.append(u1)\n",
    "    U2.append(u2)\n",
    "    ANcos.append(antx)\n",
    "    ANsin.append(anty)\n",
    "\n"
   ]
  },
  {
   "cell_type": "code",
   "execution_count": 11,
   "metadata": {},
   "outputs": [
    {
     "data": {
      "text/html": [
       "<div>\n",
       "<style scoped>\n",
       "    .dataframe tbody tr th:only-of-type {\n",
       "        vertical-align: middle;\n",
       "    }\n",
       "\n",
       "    .dataframe tbody tr th {\n",
       "        vertical-align: top;\n",
       "    }\n",
       "\n",
       "    .dataframe thead th {\n",
       "        text-align: right;\n",
       "    }\n",
       "</style>\n",
       "<table border=\"1\" class=\"dataframe\">\n",
       "  <thead>\n",
       "    <tr style=\"text-align: right;\">\n",
       "      <th></th>\n",
       "      <th>U1</th>\n",
       "      <th>U2</th>\n",
       "      <th>NormCos</th>\n",
       "      <th>NormSen</th>\n",
       "      <th>AntithCos</th>\n",
       "      <th>AntithSin</th>\n",
       "    </tr>\n",
       "  </thead>\n",
       "  <tbody>\n",
       "    <tr>\n",
       "      <th>0</th>\n",
       "      <td>0.218418</td>\n",
       "      <td>0.956318</td>\n",
       "      <td>1.679040</td>\n",
       "      <td>-0.472769</td>\n",
       "      <td>0.675770</td>\n",
       "      <td>0.190277</td>\n",
       "    </tr>\n",
       "    <tr>\n",
       "      <th>1</th>\n",
       "      <td>0.829509</td>\n",
       "      <td>0.561695</td>\n",
       "      <td>-0.566060</td>\n",
       "      <td>-0.231124</td>\n",
       "      <td>-1.741431</td>\n",
       "      <td>0.711032</td>\n",
       "    </tr>\n",
       "    <tr>\n",
       "      <th>2</th>\n",
       "      <td>0.415307</td>\n",
       "      <td>0.066119</td>\n",
       "      <td>1.212934</td>\n",
       "      <td>0.535037</td>\n",
       "      <td>0.947896</td>\n",
       "      <td>-0.418126</td>\n",
       "    </tr>\n",
       "    <tr>\n",
       "      <th>3</th>\n",
       "      <td>0.257578</td>\n",
       "      <td>0.109957</td>\n",
       "      <td>1.269381</td>\n",
       "      <td>1.049543</td>\n",
       "      <td>0.594815</td>\n",
       "      <td>-0.491802</td>\n",
       "    </tr>\n",
       "    <tr>\n",
       "      <th>4</th>\n",
       "      <td>0.043829</td>\n",
       "      <td>0.633966</td>\n",
       "      <td>-1.666087</td>\n",
       "      <td>-1.865228</td>\n",
       "      <td>-0.199448</td>\n",
       "      <td>0.223288</td>\n",
       "    </tr>\n",
       "    <tr>\n",
       "      <th>5</th>\n",
       "      <td>0.061727</td>\n",
       "      <td>0.449539</td>\n",
       "      <td>-2.242464</td>\n",
       "      <td>0.735809</td>\n",
       "      <td>-0.339180</td>\n",
       "      <td>-0.111293</td>\n",
       "    </tr>\n",
       "    <tr>\n",
       "      <th>6</th>\n",
       "      <td>0.401306</td>\n",
       "      <td>0.754673</td>\n",
       "      <td>0.039675</td>\n",
       "      <td>-1.350736</td>\n",
       "      <td>0.029740</td>\n",
       "      <td>1.012485</td>\n",
       "    </tr>\n",
       "    <tr>\n",
       "      <th>7</th>\n",
       "      <td>0.797287</td>\n",
       "      <td>0.001838</td>\n",
       "      <td>0.673068</td>\n",
       "      <td>0.007775</td>\n",
       "      <td>1.786478</td>\n",
       "      <td>-0.020636</td>\n",
       "    </tr>\n",
       "    <tr>\n",
       "      <th>8</th>\n",
       "      <td>0.897504</td>\n",
       "      <td>0.350752</td>\n",
       "      <td>-0.275127</td>\n",
       "      <td>0.374940</td>\n",
       "      <td>-1.262745</td>\n",
       "      <td>-1.720854</td>\n",
       "    </tr>\n",
       "    <tr>\n",
       "      <th>9</th>\n",
       "      <td>0.094545</td>\n",
       "      <td>0.013617</td>\n",
       "      <td>2.164005</td>\n",
       "      <td>0.185600</td>\n",
       "      <td>0.444054</td>\n",
       "      <td>-0.038085</td>\n",
       "    </tr>\n",
       "    <tr>\n",
       "      <th>10</th>\n",
       "      <td>0.859097</td>\n",
       "      <td>0.840847</td>\n",
       "      <td>0.297785</td>\n",
       "      <td>-0.463758</td>\n",
       "      <td>1.069682</td>\n",
       "      <td>1.665877</td>\n",
       "    </tr>\n",
       "  </tbody>\n",
       "</table>\n",
       "</div>"
      ],
      "text/plain": [
       "          U1        U2   NormCos   NormSen  AntithCos  AntithSin\n",
       "0   0.218418  0.956318  1.679040 -0.472769   0.675770   0.190277\n",
       "1   0.829509  0.561695 -0.566060 -0.231124  -1.741431   0.711032\n",
       "2   0.415307  0.066119  1.212934  0.535037   0.947896  -0.418126\n",
       "3   0.257578  0.109957  1.269381  1.049543   0.594815  -0.491802\n",
       "4   0.043829  0.633966 -1.666087 -1.865228  -0.199448   0.223288\n",
       "5   0.061727  0.449539 -2.242464  0.735809  -0.339180  -0.111293\n",
       "6   0.401306  0.754673  0.039675 -1.350736   0.029740   1.012485\n",
       "7   0.797287  0.001838  0.673068  0.007775   1.786478  -0.020636\n",
       "8   0.897504  0.350752 -0.275127  0.374940  -1.262745  -1.720854\n",
       "9   0.094545  0.013617  2.164005  0.185600   0.444054  -0.038085\n",
       "10  0.859097  0.840847  0.297785 -0.463758   1.069682   1.665877"
      ]
     },
     "metadata": {},
     "output_type": "display_data"
    },
    {
     "data": {
      "image/png": "[encoded data removed]",
      "text/plain": [
       "<Figure size 432x288 with 1 Axes>"
      ]
     },
     "metadata": {
      "needs_background": "light"
     },
     "output_type": "display_data"
    },
    {
     "data": {
      "image/png": "[encoded data removed]",
      "text/plain": [
       "<Figure size 432x288 with 1 Axes>"
      ]
     },
     "metadata": {
      "needs_background": "light"
     },
     "output_type": "display_data"
    }
   ],
   "source": [
    "# DataFrame with Random numbers DataFrame by Box-Muller method\n",
    "randsBM=pd.DataFrame({'U1': U1,           #Uniform set #1\n",
    "                    'U2': U2,           #Uniform set #2                    \n",
    "                    'NormCos': coseno,  #Normal set by cos\n",
    "                    'NormSen': seno,    #Normal set by sin\n",
    "                    'AntithCos': ANcos, #Antithetic set by cos\n",
    "                    'AntithSin': ANsin  #Antithetic set by sin\n",
    "                  })\n",
    "display(randsBM.head(11))\n",
    "\n",
    "nbins=10\n",
    "\n",
    "plt.title('Gaussian random numbers B-M')\n",
    "plt.axis([-3, 3, 1, 25])\n",
    "plotcos = plt.hist(coseno, nbins, alpha=.8, edgecolor = 'black',  linewidth=1)\n",
    "plotsen = plt.hist(seno, nbins, alpha=.8, edgecolor = 'black',  linewidth=1)\n",
    "plt.show()\n",
    "\n",
    "plt.title('Gaussian antithetic random numbers B-M')\n",
    "plt.axis([-3, 3, 1, 25])\n",
    "plotANcos = plt.hist(ANcos, nbins, alpha=.8, edgecolor = 'black',  linewidth=1)\n",
    "plotANsen = plt.hist(ANsin, nbins, alpha=.8, edgecolor = 'black',  linewidth=1)\n",
    "plt.show()\n",
    "\n",
    "\n"
   ]
  },
  {
   "cell_type": "code",
   "execution_count": 12,
   "metadata": {},
   "outputs": [],
   "source": [
    "# Random numbers DataFrame by Marsaglia method\n",
    "d=100\n",
    "seed=123456789\n",
    "mu=0\n",
    "sigma=1\n",
    "v1=[]\n",
    "v2=[]\n",
    "for i in range(d):\n",
    "    x1, x2, seed = marsaglia(seed, mu, sigma, 'normal')\n",
    "    v1.append(x1)\n",
    "    v2.append(x2)\n",
    "\n",
    "antv1=[]\n",
    "antv2=[]\n",
    "seed=123456789\n",
    "for i in range(d):\n",
    "    x1, x2, seed = marsaglia(seed, mu, sigma, 'antithetic')\n",
    "    antv1.append(x1)\n",
    "    antv2.append(x2)\n",
    "    \n",
    "\n"
   ]
  },
  {
   "cell_type": "code",
   "execution_count": 17,
   "metadata": {},
   "outputs": [
    {
     "data": {
      "text/html": [
       "<div>\n",
       "<style scoped>\n",
       "    .dataframe tbody tr th:only-of-type {\n",
       "        vertical-align: middle;\n",
       "    }\n",
       "\n",
       "    .dataframe tbody tr th {\n",
       "        vertical-align: top;\n",
       "    }\n",
       "\n",
       "    .dataframe thead th {\n",
       "        text-align: right;\n",
       "    }\n",
       "</style>\n",
       "<table border=\"1\" class=\"dataframe\">\n",
       "  <thead>\n",
       "    <tr style=\"text-align: right;\">\n",
       "      <th></th>\n",
       "      <th>Norm1</th>\n",
       "      <th>Norm2</th>\n",
       "      <th>Antith1</th>\n",
       "      <th>Antith2</th>\n",
       "    </tr>\n",
       "  </thead>\n",
       "  <tbody>\n",
       "    <tr>\n",
       "      <th>0</th>\n",
       "      <td>1.242957</td>\n",
       "      <td>0.232724</td>\n",
       "      <td>-1.242957</td>\n",
       "      <td>-0.232724</td>\n",
       "    </tr>\n",
       "    <tr>\n",
       "      <th>1</th>\n",
       "      <td>-0.134458</td>\n",
       "      <td>-0.688826</td>\n",
       "      <td>0.134458</td>\n",
       "      <td>0.688826</td>\n",
       "    </tr>\n",
       "    <tr>\n",
       "      <th>2</th>\n",
       "      <td>-0.307862</td>\n",
       "      <td>-0.495332</td>\n",
       "      <td>0.307862</td>\n",
       "      <td>0.495332</td>\n",
       "    </tr>\n",
       "    <tr>\n",
       "      <th>3</th>\n",
       "      <td>-0.430708</td>\n",
       "      <td>0.126488</td>\n",
       "      <td>0.430708</td>\n",
       "      <td>-0.126488</td>\n",
       "    </tr>\n",
       "    <tr>\n",
       "      <th>4</th>\n",
       "      <td>-0.702977</td>\n",
       "      <td>-0.080938</td>\n",
       "      <td>0.702977</td>\n",
       "      <td>0.080938</td>\n",
       "    </tr>\n",
       "    <tr>\n",
       "      <th>5</th>\n",
       "      <td>-0.561967</td>\n",
       "      <td>1.450124</td>\n",
       "      <td>0.561967</td>\n",
       "      <td>-1.450124</td>\n",
       "    </tr>\n",
       "    <tr>\n",
       "      <th>6</th>\n",
       "      <td>0.757011</td>\n",
       "      <td>-0.284229</td>\n",
       "      <td>-0.757011</td>\n",
       "      <td>0.284229</td>\n",
       "    </tr>\n",
       "    <tr>\n",
       "      <th>7</th>\n",
       "      <td>0.143902</td>\n",
       "      <td>0.136589</td>\n",
       "      <td>-0.143902</td>\n",
       "      <td>-0.136589</td>\n",
       "    </tr>\n",
       "    <tr>\n",
       "      <th>8</th>\n",
       "      <td>-0.217714</td>\n",
       "      <td>0.374654</td>\n",
       "      <td>0.217714</td>\n",
       "      <td>-0.374654</td>\n",
       "    </tr>\n",
       "    <tr>\n",
       "      <th>9</th>\n",
       "      <td>-0.811921</td>\n",
       "      <td>-0.311816</td>\n",
       "      <td>0.811921</td>\n",
       "      <td>0.311816</td>\n",
       "    </tr>\n",
       "    <tr>\n",
       "      <th>10</th>\n",
       "      <td>0.774401</td>\n",
       "      <td>-0.558501</td>\n",
       "      <td>-0.774401</td>\n",
       "      <td>0.558501</td>\n",
       "    </tr>\n",
       "  </tbody>\n",
       "</table>\n",
       "</div>"
      ],
      "text/plain": [
       "       Norm1     Norm2   Antith1   Antith2\n",
       "0   1.242957  0.232724 -1.242957 -0.232724\n",
       "1  -0.134458 -0.688826  0.134458  0.688826\n",
       "2  -0.307862 -0.495332  0.307862  0.495332\n",
       "3  -0.430708  0.126488  0.430708 -0.126488\n",
       "4  -0.702977 -0.080938  0.702977  0.080938\n",
       "5  -0.561967  1.450124  0.561967 -1.450124\n",
       "6   0.757011 -0.284229 -0.757011  0.284229\n",
       "7   0.143902  0.136589 -0.143902 -0.136589\n",
       "8  -0.217714  0.374654  0.217714 -0.374654\n",
       "9  -0.811921 -0.311816  0.811921  0.311816\n",
       "10  0.774401 -0.558501 -0.774401  0.558501"
      ]
     },
     "metadata": {},
     "output_type": "display_data"
    },
    {
     "data": {
      "image/png": "[encoded data removed]",
      "text/plain": [
       "<Figure size 432x288 with 1 Axes>"
      ]
     },
     "metadata": {
      "needs_background": "light"
     },
     "output_type": "display_data"
    },
    {
     "data": {
      "image/png": "[encoded data removed]",
      "text/plain": [
       "<Figure size 432x288 with 1 Axes>"
      ]
     },
     "metadata": {
      "needs_background": "light"
     },
     "output_type": "display_data"
    }
   ],
   "source": [
    "# DataFrame with random numbers DataFrame by Marsaglia method\n",
    "randsMs=pd.DataFrame({\n",
    "                      'Norm1': v1,  #Normal set by cos\n",
    "                      'Norm2': v2,    #Normal set by sin\n",
    "                      'Antith1': antv1, #Antithetic set by cos\n",
    "                      'Antith2': antv2  #Antithetic set by sin\n",
    "                    })\n",
    "display(randsMs.head(11))\n",
    "\n",
    "nbins=10\n",
    "plt.title('Gaussian random numbers Marsaglia')\n",
    "plt.axis([-3, 3, 1, 25])\n",
    "plotcos = plt.hist(v1, nbins, alpha=.8, edgecolor = 'black',  linewidth=1)\n",
    "plotsen = plt.hist(v2, nbins, alpha=.8, edgecolor = 'black',  linewidth=1)\n",
    "plt.show()\n",
    "\n",
    "plt.title('Gaussian antithetic random numbers Marsaglia')\n",
    "plt.axis([-3, 3, 1, 25])\n",
    "\n",
    "plotANcos = plt.hist(antv1, nbins, alpha=.8, edgecolor = 'black',  linewidth=1)\n",
    "plotANsen = plt.hist(antv2, nbins, alpha=.8, edgecolor = 'black',  linewidth=1)\n",
    "plt.show()\n"
   ]
  },
  {
   "cell_type": "markdown",
   "metadata": {},
   "source": [
    "## Metrics"
   ]
  },
  {
   "cell_type": "markdown",
   "metadata": {},
   "source": [
    "Some statistical metrics have been obtained by using numpy functions. They are shown in both DataFrames. First DF shows Gaussian random numbers obtained by Box Muller. The second one, shows Gaussian random numbers obtained by Marsaglia implementation."
   ]
  },
  {
   "cell_type": "code",
   "execution_count": 462,
   "metadata": {},
   "outputs": [
    {
     "data": {
      "text/html": [
       "<div>\n",
       "<style scoped>\n",
       "    .dataframe tbody tr th:only-of-type {\n",
       "        vertical-align: middle;\n",
       "    }\n",
       "\n",
       "    .dataframe tbody tr th {\n",
       "        vertical-align: top;\n",
       "    }\n",
       "\n",
       "    .dataframe thead th {\n",
       "        text-align: right;\n",
       "    }\n",
       "</style>\n",
       "<table border=\"1\" class=\"dataframe\">\n",
       "  <thead>\n",
       "    <tr style=\"text-align: right;\">\n",
       "      <th></th>\n",
       "      <th>U1</th>\n",
       "      <th>U2</th>\n",
       "      <th>NormCos</th>\n",
       "      <th>NormSin</th>\n",
       "      <th>AntithCos</th>\n",
       "      <th>AntithSin</th>\n",
       "    </tr>\n",
       "  </thead>\n",
       "  <tbody>\n",
       "    <tr>\n",
       "      <th>mean</th>\n",
       "      <td>0.477852</td>\n",
       "      <td>0.514305</td>\n",
       "      <td>0.027371</td>\n",
       "      <td>-0.122018</td>\n",
       "      <td>-0.067730</td>\n",
       "      <td>0.063807</td>\n",
       "    </tr>\n",
       "    <tr>\n",
       "      <th>variance</th>\n",
       "      <td>0.083432</td>\n",
       "      <td>0.082089</td>\n",
       "      <td>1.079609</td>\n",
       "      <td>1.040119</td>\n",
       "      <td>0.904502</td>\n",
       "      <td>0.860886</td>\n",
       "    </tr>\n",
       "    <tr>\n",
       "      <th>skewness</th>\n",
       "      <td>-0.072074</td>\n",
       "      <td>-0.158643</td>\n",
       "      <td>-0.095561</td>\n",
       "      <td>-0.187513</td>\n",
       "      <td>-0.201527</td>\n",
       "      <td>0.136648</td>\n",
       "    </tr>\n",
       "    <tr>\n",
       "      <th>kurtosis</th>\n",
       "      <td>-1.300916</td>\n",
       "      <td>-1.163174</td>\n",
       "      <td>0.260951</td>\n",
       "      <td>-0.589884</td>\n",
       "      <td>-0.225150</td>\n",
       "      <td>-0.734443</td>\n",
       "    </tr>\n",
       "    <tr>\n",
       "      <th>VaR</th>\n",
       "      <td>0.043733</td>\n",
       "      <td>0.021170</td>\n",
       "      <td>-1.732634</td>\n",
       "      <td>-1.868009</td>\n",
       "      <td>-1.744378</td>\n",
       "      <td>-1.317551</td>\n",
       "    </tr>\n",
       "    <tr>\n",
       "      <th>correlation</th>\n",
       "      <td>NaN</td>\n",
       "      <td>NaN</td>\n",
       "      <td>-0.057932</td>\n",
       "      <td>NaN</td>\n",
       "      <td>0.109998</td>\n",
       "      <td>NaN</td>\n",
       "    </tr>\n",
       "  </tbody>\n",
       "</table>\n",
       "</div>"
      ],
      "text/plain": [
       "                   U1        U2   NormCos   NormSin  AntithCos  AntithSin\n",
       "mean         0.477852  0.514305  0.027371 -0.122018  -0.067730   0.063807\n",
       "variance     0.083432  0.082089  1.079609  1.040119   0.904502   0.860886\n",
       "skewness    -0.072074 -0.158643 -0.095561 -0.187513  -0.201527   0.136648\n",
       "kurtosis    -1.300916 -1.163174  0.260951 -0.589884  -0.225150  -0.734443\n",
       "VaR          0.043733  0.021170 -1.732634 -1.868009  -1.744378  -1.317551\n",
       "correlation       NaN       NaN -0.057932       NaN   0.109998        NaN"
      ]
     },
     "execution_count": 462,
     "metadata": {},
     "output_type": "execute_result"
    }
   ],
   "source": [
    "# Metrics from Box-Muller Generated numbers\n",
    "index=['mean', 'variance', 'skewness', 'kurtosis', 'VaR', 'correlation']\n",
    "metrics=pd.DataFrame({'U1': np.array([np.mean(U1), np.var(U1), skew(U1), kurtosis(U1),np.percentile(U1, 5), np.nan]),\n",
    "                      'U2': np.array([np.mean(U2), np.var(U2), skew(U2), kurtosis(U2),np.percentile(U2, 5), np.nan]),\n",
    "                      'NormCos': np.array([np.mean(coseno), np.var(coseno), skew(coseno), kurtosis(coseno), np.percentile(coseno, 5), np.corrcoef(coseno, seno)[0,1]]),\n",
    "                      'NormSin': np.array([np.mean(seno), np.var(seno), skew(seno), kurtosis(seno),np.percentile(seno, 5), np.nan]),\n",
    "                      'AntithCos': np.array([np.mean(ANcos), np.var(ANcos), skew(ANcos), kurtosis(ANcos), np.percentile(ANcos, 5), np.corrcoef(ANcos, ANsin)[0,1]]),\n",
    "                      'AntithSin': np.array([np.mean(ANsin), np.var(ANsin), skew(ANsin), kurtosis(ANsin),np.percentile(ANsin, 5), np.nan])}, index=index)\n",
    "metrics"
   ]
  },
  {
   "cell_type": "code",
   "execution_count": 463,
   "metadata": {},
   "outputs": [
    {
     "data": {
      "text/html": [
       "<div>\n",
       "<style scoped>\n",
       "    .dataframe tbody tr th:only-of-type {\n",
       "        vertical-align: middle;\n",
       "    }\n",
       "\n",
       "    .dataframe tbody tr th {\n",
       "        vertical-align: top;\n",
       "    }\n",
       "\n",
       "    .dataframe thead th {\n",
       "        text-align: right;\n",
       "    }\n",
       "</style>\n",
       "<table border=\"1\" class=\"dataframe\">\n",
       "  <thead>\n",
       "    <tr style=\"text-align: right;\">\n",
       "      <th></th>\n",
       "      <th>Norm1</th>\n",
       "      <th>Norm2</th>\n",
       "      <th>Antith1</th>\n",
       "      <th>Antith2</th>\n",
       "    </tr>\n",
       "  </thead>\n",
       "  <tbody>\n",
       "    <tr>\n",
       "      <th>mean</th>\n",
       "      <td>0.215905</td>\n",
       "      <td>-0.173280</td>\n",
       "      <td>-0.215905</td>\n",
       "      <td>0.173280</td>\n",
       "    </tr>\n",
       "    <tr>\n",
       "      <th>variance</th>\n",
       "      <td>0.707514</td>\n",
       "      <td>0.922911</td>\n",
       "      <td>0.707514</td>\n",
       "      <td>0.922911</td>\n",
       "    </tr>\n",
       "    <tr>\n",
       "      <th>skewness</th>\n",
       "      <td>0.128030</td>\n",
       "      <td>-0.222004</td>\n",
       "      <td>-0.128030</td>\n",
       "      <td>0.222004</td>\n",
       "    </tr>\n",
       "    <tr>\n",
       "      <th>kurtosis</th>\n",
       "      <td>-0.334521</td>\n",
       "      <td>-0.428084</td>\n",
       "      <td>-0.334521</td>\n",
       "      <td>-0.428084</td>\n",
       "    </tr>\n",
       "    <tr>\n",
       "      <th>VaR</th>\n",
       "      <td>-1.012681</td>\n",
       "      <td>-1.904691</td>\n",
       "      <td>-1.732778</td>\n",
       "      <td>-1.281090</td>\n",
       "    </tr>\n",
       "    <tr>\n",
       "      <th>correlation</th>\n",
       "      <td>-0.116348</td>\n",
       "      <td>NaN</td>\n",
       "      <td>-0.116348</td>\n",
       "      <td>NaN</td>\n",
       "    </tr>\n",
       "  </tbody>\n",
       "</table>\n",
       "</div>"
      ],
      "text/plain": [
       "                Norm1     Norm2   Antith1   Antith2\n",
       "mean         0.215905 -0.173280 -0.215905  0.173280\n",
       "variance     0.707514  0.922911  0.707514  0.922911\n",
       "skewness     0.128030 -0.222004 -0.128030  0.222004\n",
       "kurtosis    -0.334521 -0.428084 -0.334521 -0.428084\n",
       "VaR         -1.012681 -1.904691 -1.732778 -1.281090\n",
       "correlation -0.116348       NaN -0.116348       NaN"
      ]
     },
     "execution_count": 463,
     "metadata": {},
     "output_type": "execute_result"
    }
   ],
   "source": [
    "# Metrics from Box-Muller Generated numbers\n",
    "index=['mean', 'variance', 'skewness', 'kurtosis', 'VaR', 'correlation']\n",
    "metrics=pd.DataFrame({\n",
    "                      'Norm1': np.array([np.mean(v1), np.var(v1), skew(v1), kurtosis(v1), np.percentile(v1, 5), np.corrcoef(v1, v2)[0,1]]),\n",
    "                      'Norm2': np.array([np.mean(v2), np.var(v2), skew(v2), kurtosis(v2),np.percentile(v2, 5), np.nan]),\n",
    "                      'Antith1': np.array([np.mean(antv1), np.var(antv1), skew(antv1), kurtosis(antv1), np.percentile(antv1, 5), np.corrcoef(antv1, antv2)[0,1]]),\n",
    "                      'Antith2': np.array([np.mean(antv2), np.var(antv2), skew(antv2), kurtosis(antv2),np.percentile(antv2, 5), np.nan])}, index=index)\n",
    "metrics"
   ]
  },
  {
   "cell_type": "markdown",
   "metadata": {},
   "source": [
    "## Stochastic process"
   ]
  },
  {
   "cell_type": "markdown",
   "metadata": {},
   "source": [
    "In this section the Brownian motion is obtained by generating random Gaussian numbers using Box-Muller method. The stochastic equation used is:\n",
    "\n",
    "\\begin{equation}\n",
    "X\\to X\\cdot \\sqrt{\\delta t}\\cdot \\mathcal{N}(0,1)\n",
    "\\end{equation}"
   ]
  },
  {
   "cell_type": "code",
   "execution_count": 489,
   "metadata": {},
   "outputs": [
    {
     "data": {
      "text/plain": [
       "Text(0, 0.5, 'Evolucion')"
      ]
     },
     "execution_count": 489,
     "metadata": {},
     "output_type": "execute_result"
    },
    {
     "data": {
      "image/png": "[encoded data removed]",
      "text/plain": [
       "<Figure size 864x432 with 1 Axes>"
      ]
     },
     "metadata": {
      "needs_background": "light"
     },
     "output_type": "display_data"
    }
   ],
   "source": [
    "seed=123456789\n",
    "N = 100            #number of points each partition\n",
    "T = 100            #number of periods        \n",
    "Delta = T/N        #period increase  \n",
    "t = np.arange(1,N) #total period\n",
    "\n",
    "B1=[0]\n",
    "B2=[0]\n",
    "B3=[0]\n",
    "B4=[0]\n",
    "\n",
    "for i in t:\n",
    "    B1=np.append(B1, B1[i-1]+np.sqrt(Delta)*coseno[i])\n",
    "    B2=np.append(B2, B2[i-1]+np.sqrt(Delta)*seno[i])\n",
    "    B3=np.append(B3, B3[i-1]+np.sqrt(Delta)*ANcos[i])\n",
    "    B4=np.append(B4, B4[i-1]+np.sqrt(Delta)*ANsin[i])\n",
    "\n",
    "    \n",
    "plt.figure(figsize=(12,6))\n",
    "ejex=range(100)\n",
    "plt.plot(ejex,B1,ejex,B2,ejex,B3,ejex,B4)\n",
    "plt.grid()\n",
    "plt.xlabel('Tiempo')\n",
    "plt.ylabel('Evolucion')\n",
    "# plt.legend('coseno','seno','cosant','sinant')\n"
   ]
  },
  {
   "cell_type": "markdown",
   "metadata": {},
   "source": [
    "The same's been done in here but random Gaussian random numbers've been generated by means of Marsaglia method."
   ]
  },
  {
   "cell_type": "code",
   "execution_count": 493,
   "metadata": {},
   "outputs": [
    {
     "data": {
      "text/plain": [
       "Text(0, 0.5, 'Evolucion')"
      ]
     },
     "execution_count": 493,
     "metadata": {},
     "output_type": "execute_result"
    },
    {
     "data": {
      "image/png": "[encoded data removed]",
      "text/plain": [
       "<Figure size 864x432 with 1 Axes>"
      ]
     },
     "metadata": {
      "needs_background": "light"
     },
     "output_type": "display_data"
    }
   ],
   "source": [
    "seed=123456789\n",
    "N = 100            #number of points each partition\n",
    "T = 100            #number of periods        \n",
    "Delta = T/N        #period increase  \n",
    "t = np.arange(1,N) #total period\n",
    "\n",
    "B1=[0]\n",
    "B2=[0]\n",
    "B3=[0]\n",
    "B4=[0]\n",
    "\n",
    "for i in t:\n",
    "    B1=np.append(B1, B1[i-1]+np.sqrt(Delta)*v1[i])\n",
    "    B2=np.append(B2, B2[i-1]+np.sqrt(Delta)*v2[i])\n",
    "    B3=np.append(B3, B3[i-1]+np.sqrt(Delta)*antv1[i])\n",
    "    B4=np.append(B4, B4[i-1]+np.sqrt(Delta)*antv2[i])\n",
    "\n",
    "    \n",
    "plt.figure(figsize=(12,6))\n",
    "ejex=range(100)\n",
    "plt.plot(ejex,B1,ejex,B2,ejex,B3,ejex,B4)\n",
    "plt.grid()\n",
    "plt.xlabel('Tiempo')\n",
    "plt.ylabel('Evolucion')\n",
    "# plt.legend('coseno','seno','cosant','sinant')\n"
   ]
  },
  {
   "cell_type": "code",
   "execution_count": null,
   "metadata": {},
   "outputs": [],
   "source": []
  }
 ],
 "metadata": {
  "kernelspec": {
   "display_name": "Python 3",
   "language": "python",
   "name": "python3"
  },
  "language_info": {
   "codemirror_mode": {
    "name": "ipython",
    "version": 3
   },
   "file_extension": ".py",
   "mimetype": "text/x-python",
   "name": "python",
   "nbconvert_exporter": "python",
   "pygments_lexer": "ipython3",
   "version": "3.7.2"
  }
 },
 "nbformat": 4,
 "nbformat_minor": 1
}
