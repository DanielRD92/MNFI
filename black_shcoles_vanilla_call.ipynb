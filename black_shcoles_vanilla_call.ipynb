{
 "cells": [
  {
   "cell_type": "markdown",
   "metadata": {},
   "source": [
    "# Hands-On Black-Scholes model"
   ]
  },
  {
   "cell_type": "markdown",
   "metadata": {},
   "source": [
    "In this assingment, random Gaussian numbers will be generated as well they will be used in order to apply Black-Scholes model for vanilla options pricing. Two options will be valuated, an european call option and an european put option, both with maturity $T$. It's required to estimate the value with the given condition:\n",
    "\n",
    "\\begin{equation}\n",
    "V_call=e^{-r_ct}\\cdot E_{RNM}[payoff]=(1+r)^{-t}\\cdot E_{RNM}[payoff]\n",
    "\\end{equation}\n"
   ]
  },
  {
   "cell_type": "markdown",
   "metadata": {},
   "source": [
    "Using the Black-Scholes equation as follows:\n",
    "\n",
    "\\begin{equation}\n",
    "V_call(S,t)=S\\cdot e^{-d_c}\\cdot \\phi(d_1)-K2^{-r_ct}\\cdot \\phi(d_2)\n",
    "\\end{equation}\n",
    "\n",
    "where:\n",
    "\\begin{equation}\n",
    "d_1=\\frac{1}{\\sigma \\sqrt{t}}\\cdot [ln(S/K)+(r_c-d_c+0.5\\sigma^2)t]\n",
    "\\end{equation}\n",
    "\\begin{equation}\n",
    "d_2=d_1-\\sigma\\sqrt{t}\n",
    "\\end{equation}\n",
    "\n"
   ]
  },
  {
   "cell_type": "markdown",
   "metadata": {},
   "source": [
    "$r=0.03\\%; Strike=14; Period: T=1,2,3$ years$; \\sigma=0.3; S_0=14$\n",
    "\n",
    "The variance of the estimated value is:\n",
    "\\begin{equation}\n",
    "S_{call}^2=(e^{-r_ct})^2\\cdot S^{2/payoff}\n",
    "\\end{equation}"
   ]
  },
  {
   "cell_type": "markdown",
   "metadata": {},
   "source": [
    "## 1. Pseudo-random number generators"
   ]
  },
  {
   "cell_type": "code",
   "execution_count": 45,
   "metadata": {},
   "outputs": [],
   "source": [
    "from math import *\n",
    "import numpy as np\n",
    "import pandas as pd\n",
    "from scipy.stats import kurtosis, skew, pearsonr, norm\n",
    "import matplotlib.pyplot as plt\n",
    "import matplotlib.mlab as mlab\n"
   ]
  },
  {
   "cell_type": "markdown",
   "metadata": {},
   "source": [
    "### 1.1 Congruential"
   ]
  },
  {
   "cell_type": "code",
   "execution_count": 3,
   "metadata": {},
   "outputs": [],
   "source": [
    "def congru(seed, m=((2**31)-1), a=16807, b=0):\n",
    "        y=(a*seed+b)%m\n",
    "        u=y/m\n",
    "        return(u, y)"
   ]
  },
  {
   "cell_type": "markdown",
   "metadata": {},
   "source": [
    "### 1.2 Box-Muller"
   ]
  },
  {
   "cell_type": "code",
   "execution_count": 6,
   "metadata": {},
   "outputs": [],
   "source": [
    "def boxmuller(seed, mu=0, sigma=1):\n",
    "    u1, seed=congru(seed)    #Uniform inputs\n",
    "    u2, seed=congru(seed)\n",
    "    \n",
    "    x=sqrt(-2*log(u1))*cos(2*pi*u2)*sigma+mu  #Gaussian numbers generation\n",
    "    y=sqrt(-2*log(u1))*sin(2*pi*u2)*sigma+mu\n",
    "    \n",
    "    antx=sqrt(-2*log(1-u1))*cos(2*pi*(1-u2))*sigma+mu  #Antithetic numbers generation\n",
    "    anty=sqrt(-2*log(1-u1))*sin(2*pi*(1-u2))*sigma+mu\n",
    "    return(x, y, u1, u2, antx, anty, seed)"
   ]
  },
  {
   "cell_type": "markdown",
   "metadata": {},
   "source": [
    "### 1.3 Marsaglia"
   ]
  },
  {
   "cell_type": "code",
   "execution_count": 7,
   "metadata": {},
   "outputs": [],
   "source": [
    "def marsaglia(seed, mu=0, sigma=1, mode='normal'):\n",
    "    \n",
    "    while True:\n",
    "        if mode=='normal':\n",
    "            u1, seed= congru(seed)\n",
    "            u2, seed= congru(seed)\n",
    "            v1=2*u1-1\n",
    "            v2=2*u2-1\n",
    "            R2=v1**2+v2**2\n",
    "            if R2<=1:\n",
    "                y=sqrt(-2*log(R2)/R2)\n",
    "                x1=v1*y*sigma+mu\n",
    "                x2=v2*y*sigma+mu\n",
    "                break\n",
    "        if mode=='antithetic':\n",
    "            u1, seed= congru(seed)\n",
    "            u2, seed= congru(seed)\n",
    "            v1=2*(1-u1)-1\n",
    "            v2=2*(1-u2)-1\n",
    "            R2=v1**2+v2**2\n",
    "            if R2<=1:\n",
    "                y=sqrt(-2*log(R2)/R2)\n",
    "                x1=v1*y*sigma+mu\n",
    "                x2=v2*y*sigma+mu\n",
    "                break\n",
    "        \n",
    "    return(x1,x2,seed)"
   ]
  },
  {
   "cell_type": "markdown",
   "metadata": {},
   "source": [
    "## 2. Random numbers"
   ]
  },
  {
   "cell_type": "markdown",
   "metadata": {},
   "source": [
    "In this section, 1k random Gaussian numbers will be generated to be used in following sections. Those number will be obatained by two different methods, Box-Müller and Marsaglia. These methods produce 4 random Gaussian numbers sets each, 2 of those will be generated from antithetic uniform random numbers."
   ]
  },
  {
   "cell_type": "markdown",
   "metadata": {},
   "source": [
    "### 2.1 B-M Method"
   ]
  },
  {
   "cell_type": "code",
   "execution_count": 59,
   "metadata": {},
   "outputs": [
    {
     "data": {
      "text/html": [
       "<div>\n",
       "<style scoped>\n",
       "    .dataframe tbody tr th:only-of-type {\n",
       "        vertical-align: middle;\n",
       "    }\n",
       "\n",
       "    .dataframe tbody tr th {\n",
       "        vertical-align: top;\n",
       "    }\n",
       "\n",
       "    .dataframe thead th {\n",
       "        text-align: right;\n",
       "    }\n",
       "</style>\n",
       "<table border=\"1\" class=\"dataframe\">\n",
       "  <thead>\n",
       "    <tr style=\"text-align: right;\">\n",
       "      <th></th>\n",
       "      <th>U1</th>\n",
       "      <th>U2</th>\n",
       "      <th>NormCos</th>\n",
       "      <th>NormSen</th>\n",
       "      <th>AntithCos</th>\n",
       "      <th>AntithSin</th>\n",
       "    </tr>\n",
       "  </thead>\n",
       "  <tbody>\n",
       "    <tr>\n",
       "      <th>0</th>\n",
       "      <td>0.218418</td>\n",
       "      <td>0.956318</td>\n",
       "      <td>1.679040</td>\n",
       "      <td>-0.472769</td>\n",
       "      <td>0.675770</td>\n",
       "      <td>0.190277</td>\n",
       "    </tr>\n",
       "    <tr>\n",
       "      <th>1</th>\n",
       "      <td>0.829509</td>\n",
       "      <td>0.561695</td>\n",
       "      <td>-0.566060</td>\n",
       "      <td>-0.231124</td>\n",
       "      <td>-1.741431</td>\n",
       "      <td>0.711032</td>\n",
       "    </tr>\n",
       "    <tr>\n",
       "      <th>2</th>\n",
       "      <td>0.415307</td>\n",
       "      <td>0.066119</td>\n",
       "      <td>1.212934</td>\n",
       "      <td>0.535037</td>\n",
       "      <td>0.947896</td>\n",
       "      <td>-0.418126</td>\n",
       "    </tr>\n",
       "    <tr>\n",
       "      <th>3</th>\n",
       "      <td>0.257578</td>\n",
       "      <td>0.109957</td>\n",
       "      <td>1.269381</td>\n",
       "      <td>1.049543</td>\n",
       "      <td>0.594815</td>\n",
       "      <td>-0.491802</td>\n",
       "    </tr>\n",
       "    <tr>\n",
       "      <th>4</th>\n",
       "      <td>0.043829</td>\n",
       "      <td>0.633966</td>\n",
       "      <td>-1.666087</td>\n",
       "      <td>-1.865228</td>\n",
       "      <td>-0.199448</td>\n",
       "      <td>0.223288</td>\n",
       "    </tr>\n",
       "    <tr>\n",
       "      <th>5</th>\n",
       "      <td>0.061727</td>\n",
       "      <td>0.449539</td>\n",
       "      <td>-2.242464</td>\n",
       "      <td>0.735809</td>\n",
       "      <td>-0.339180</td>\n",
       "      <td>-0.111293</td>\n",
       "    </tr>\n",
       "    <tr>\n",
       "      <th>6</th>\n",
       "      <td>0.401306</td>\n",
       "      <td>0.754673</td>\n",
       "      <td>0.039675</td>\n",
       "      <td>-1.350736</td>\n",
       "      <td>0.029740</td>\n",
       "      <td>1.012485</td>\n",
       "    </tr>\n",
       "    <tr>\n",
       "      <th>7</th>\n",
       "      <td>0.797287</td>\n",
       "      <td>0.001838</td>\n",
       "      <td>0.673068</td>\n",
       "      <td>0.007775</td>\n",
       "      <td>1.786478</td>\n",
       "      <td>-0.020636</td>\n",
       "    </tr>\n",
       "    <tr>\n",
       "      <th>8</th>\n",
       "      <td>0.897504</td>\n",
       "      <td>0.350752</td>\n",
       "      <td>-0.275127</td>\n",
       "      <td>0.374940</td>\n",
       "      <td>-1.262745</td>\n",
       "      <td>-1.720854</td>\n",
       "    </tr>\n",
       "    <tr>\n",
       "      <th>9</th>\n",
       "      <td>0.094545</td>\n",
       "      <td>0.013617</td>\n",
       "      <td>2.164005</td>\n",
       "      <td>0.185600</td>\n",
       "      <td>0.444054</td>\n",
       "      <td>-0.038085</td>\n",
       "    </tr>\n",
       "    <tr>\n",
       "      <th>10</th>\n",
       "      <td>0.859097</td>\n",
       "      <td>0.840847</td>\n",
       "      <td>0.297785</td>\n",
       "      <td>-0.463758</td>\n",
       "      <td>1.069682</td>\n",
       "      <td>1.665877</td>\n",
       "    </tr>\n",
       "  </tbody>\n",
       "</table>\n",
       "</div>"
      ],
      "text/plain": [
       "          U1        U2   NormCos   NormSen  AntithCos  AntithSin\n",
       "0   0.218418  0.956318  1.679040 -0.472769   0.675770   0.190277\n",
       "1   0.829509  0.561695 -0.566060 -0.231124  -1.741431   0.711032\n",
       "2   0.415307  0.066119  1.212934  0.535037   0.947896  -0.418126\n",
       "3   0.257578  0.109957  1.269381  1.049543   0.594815  -0.491802\n",
       "4   0.043829  0.633966 -1.666087 -1.865228  -0.199448   0.223288\n",
       "5   0.061727  0.449539 -2.242464  0.735809  -0.339180  -0.111293\n",
       "6   0.401306  0.754673  0.039675 -1.350736   0.029740   1.012485\n",
       "7   0.797287  0.001838  0.673068  0.007775   1.786478  -0.020636\n",
       "8   0.897504  0.350752 -0.275127  0.374940  -1.262745  -1.720854\n",
       "9   0.094545  0.013617  2.164005  0.185600   0.444054  -0.038085\n",
       "10  0.859097  0.840847  0.297785 -0.463758   1.069682   1.665877"
      ]
     },
     "metadata": {},
     "output_type": "display_data"
    }
   ],
   "source": [
    "N=1000\n",
    "coseno=[]\n",
    "seno=[]\n",
    "U1=[]\n",
    "U2=[]\n",
    "ANcos=[]\n",
    "ANsin=[]\n",
    "seed=123456789\n",
    "\n",
    "for i in range(N):\n",
    "    x, y, u1, u2, antx, anty, seed=boxmuller(seed)\n",
    "    coseno.append(x)\n",
    "    seno.append(y)\n",
    "    U1.append(u1)\n",
    "    U2.append(u2)\n",
    "    ANcos.append(antx)\n",
    "    ANsin.append(anty)\n",
    "    \n",
    "randsBM=pd.DataFrame({'U1': U1,         #Uniform set #1\n",
    "                    'U2': U2,           #Uniform set #2                    \n",
    "                    'NormCos': coseno,  #Normal set by cos\n",
    "                    'NormSen': seno,    #Normal set by sin\n",
    "                    'AntithCos': ANcos, #Antithetic set by cos\n",
    "                    'AntithSin': ANsin  #Antithetic set by sin\n",
    "                  })\n",
    "display(randsBM.head(11))"
   ]
  },
  {
   "cell_type": "markdown",
   "metadata": {},
   "source": [
    "### 2.2 Marsaglia method"
   ]
  },
  {
   "cell_type": "code",
   "execution_count": 58,
   "metadata": {},
   "outputs": [
    {
     "data": {
      "text/html": [
       "<div>\n",
       "<style scoped>\n",
       "    .dataframe tbody tr th:only-of-type {\n",
       "        vertical-align: middle;\n",
       "    }\n",
       "\n",
       "    .dataframe tbody tr th {\n",
       "        vertical-align: top;\n",
       "    }\n",
       "\n",
       "    .dataframe thead th {\n",
       "        text-align: right;\n",
       "    }\n",
       "</style>\n",
       "<table border=\"1\" class=\"dataframe\">\n",
       "  <thead>\n",
       "    <tr style=\"text-align: right;\">\n",
       "      <th></th>\n",
       "      <th>Norm1</th>\n",
       "      <th>Norm2</th>\n",
       "      <th>Antith1</th>\n",
       "      <th>Antith2</th>\n",
       "    </tr>\n",
       "  </thead>\n",
       "  <tbody>\n",
       "    <tr>\n",
       "      <th>0</th>\n",
       "      <td>1.242957</td>\n",
       "      <td>0.232724</td>\n",
       "      <td>-1.242957</td>\n",
       "      <td>-0.232724</td>\n",
       "    </tr>\n",
       "    <tr>\n",
       "      <th>1</th>\n",
       "      <td>-0.134458</td>\n",
       "      <td>-0.688826</td>\n",
       "      <td>0.134458</td>\n",
       "      <td>0.688826</td>\n",
       "    </tr>\n",
       "    <tr>\n",
       "      <th>2</th>\n",
       "      <td>-0.307862</td>\n",
       "      <td>-0.495332</td>\n",
       "      <td>0.307862</td>\n",
       "      <td>0.495332</td>\n",
       "    </tr>\n",
       "    <tr>\n",
       "      <th>3</th>\n",
       "      <td>-0.430708</td>\n",
       "      <td>0.126488</td>\n",
       "      <td>0.430708</td>\n",
       "      <td>-0.126488</td>\n",
       "    </tr>\n",
       "    <tr>\n",
       "      <th>4</th>\n",
       "      <td>-0.702977</td>\n",
       "      <td>-0.080938</td>\n",
       "      <td>0.702977</td>\n",
       "      <td>0.080938</td>\n",
       "    </tr>\n",
       "    <tr>\n",
       "      <th>5</th>\n",
       "      <td>-0.561967</td>\n",
       "      <td>1.450124</td>\n",
       "      <td>0.561967</td>\n",
       "      <td>-1.450124</td>\n",
       "    </tr>\n",
       "    <tr>\n",
       "      <th>6</th>\n",
       "      <td>0.757011</td>\n",
       "      <td>-0.284229</td>\n",
       "      <td>-0.757011</td>\n",
       "      <td>0.284229</td>\n",
       "    </tr>\n",
       "    <tr>\n",
       "      <th>7</th>\n",
       "      <td>0.143902</td>\n",
       "      <td>0.136589</td>\n",
       "      <td>-0.143902</td>\n",
       "      <td>-0.136589</td>\n",
       "    </tr>\n",
       "    <tr>\n",
       "      <th>8</th>\n",
       "      <td>-0.217714</td>\n",
       "      <td>0.374654</td>\n",
       "      <td>0.217714</td>\n",
       "      <td>-0.374654</td>\n",
       "    </tr>\n",
       "    <tr>\n",
       "      <th>9</th>\n",
       "      <td>-0.811921</td>\n",
       "      <td>-0.311816</td>\n",
       "      <td>0.811921</td>\n",
       "      <td>0.311816</td>\n",
       "    </tr>\n",
       "    <tr>\n",
       "      <th>10</th>\n",
       "      <td>0.774401</td>\n",
       "      <td>-0.558501</td>\n",
       "      <td>-0.774401</td>\n",
       "      <td>0.558501</td>\n",
       "    </tr>\n",
       "  </tbody>\n",
       "</table>\n",
       "</div>"
      ],
      "text/plain": [
       "       Norm1     Norm2   Antith1   Antith2\n",
       "0   1.242957  0.232724 -1.242957 -0.232724\n",
       "1  -0.134458 -0.688826  0.134458  0.688826\n",
       "2  -0.307862 -0.495332  0.307862  0.495332\n",
       "3  -0.430708  0.126488  0.430708 -0.126488\n",
       "4  -0.702977 -0.080938  0.702977  0.080938\n",
       "5  -0.561967  1.450124  0.561967 -1.450124\n",
       "6   0.757011 -0.284229 -0.757011  0.284229\n",
       "7   0.143902  0.136589 -0.143902 -0.136589\n",
       "8  -0.217714  0.374654  0.217714 -0.374654\n",
       "9  -0.811921 -0.311816  0.811921  0.311816\n",
       "10  0.774401 -0.558501 -0.774401  0.558501"
      ]
     },
     "metadata": {},
     "output_type": "display_data"
    }
   ],
   "source": [
    "d=1000\n",
    "seed=123456789\n",
    "mu=0\n",
    "sigma=1\n",
    "v1=[]\n",
    "v2=[]\n",
    "for i in range(d):\n",
    "    x1, x2, seed = marsaglia(seed, mu, sigma, 'normal')\n",
    "    v1.append(x1)\n",
    "    v2.append(x2)\n",
    "    \n",
    "antv1=[]\n",
    "antv2=[]\n",
    "seed=123456789\n",
    "for i in range(d):\n",
    "    x1, x2, seed = marsaglia(seed, mu, sigma, 'antithetic')\n",
    "    antv1.append(x1)\n",
    "    antv2.append(x2)\n",
    "    \n",
    "randsMs=pd.DataFrame({\n",
    "                      'Norm1': v1,      #Normal set by cos\n",
    "                      'Norm2': v2,      #Normal set by sin\n",
    "                      'Antith1': antv1, #Antithetic set by cos\n",
    "                      'Antith2': antv2  #Antithetic set by sin\n",
    "                    })\n",
    "display(randsMs.head(11))\n"
   ]
  },
  {
   "cell_type": "markdown",
   "metadata": {},
   "source": [
    "## 3. Black-Scholes equation"
   ]
  },
  {
   "cell_type": "markdown",
   "metadata": {},
   "source": [
    "### 3.1 Initial Data"
   ]
  },
  {
   "cell_type": "code",
   "execution_count": 57,
   "metadata": {},
   "outputs": [],
   "source": [
    "# Subyacent price at the begining\n",
    "S0=14\n",
    "# Strike price\n",
    "Str=14\n",
    "\n",
    "# Yearly and continous return\n",
    "ry=0.03\n",
    "rc=log(1+ry)\n",
    "\n",
    "# Yearly and continuos discount rate\n",
    "dy=0\n",
    "dc=log(1+dy)\n",
    "\n",
    "# Volatility\n",
    "sig=0.3\n",
    "#Period\n",
    "T=1\n",
    "\n",
    "# d1 and d2\n",
    "d1=(np.log(S0/Str)+(rc-dc+0.5*sig**2))*T/(sig*np.sqrt(T))\n",
    "d2=d1-sig*np.sqrt(T)\n",
    "\n",
    "# Accumulated gaussian probability\n",
    "phi1=norm.cdf(d1)\n",
    "phi2=norm.cdf(d2)\n"
   ]
  },
  {
   "cell_type": "markdown",
   "metadata": {},
   "source": [
    "### 3.2 Black-Scholes"
   ]
  },
  {
   "cell_type": "code",
   "execution_count": 56,
   "metadata": {},
   "outputs": [
    {
     "name": "stdout",
     "output_type": "stream",
     "text": [
      "The call and put values are repectively:\n",
      "Vcall= 1.8567867063017554\n",
      "Vput= 1.4490197160104934\n"
     ]
    }
   ],
   "source": [
    "Vcall=S0*np.exp(-1*dc*T)*phi1-Str*np.exp(-1*rc*T)*phi2\n",
    "Vput=Vcall-S0*np.exp(-1*dc*T)+Str*np.exp(-1*rc*T)\n",
    "print('The call and put values are repectively:')\n",
    "print('Vcall=',Vcall)\n",
    "print('Vput=',Vput)"
   ]
  },
  {
   "cell_type": "code",
   "execution_count": null,
   "metadata": {},
   "outputs": [],
   "source": [
    "Ss=[]\n",
    "for gvalue in coseno:\n",
    "    S=S0*np.exp((rc-dc-0.5*sig**2)*T+sig*np.sqrt(T)*gvalue)\n",
    "    Ss.append(S)\n",
    "\n",
    "Ss"
   ]
  }
 ],
 "metadata": {
  "kernelspec": {
   "display_name": "Python 3",
   "language": "python",
   "name": "python3"
  },
  "language_info": {
   "codemirror_mode": {
    "name": "ipython",
    "version": 3
   },
   "file_extension": ".py",
   "mimetype": "text/x-python",
   "name": "python",
   "nbconvert_exporter": "python",
   "pygments_lexer": "ipython3",
   "version": "3.7.2"
  }
 },
 "nbformat": 4,
 "nbformat_minor": 2
}
