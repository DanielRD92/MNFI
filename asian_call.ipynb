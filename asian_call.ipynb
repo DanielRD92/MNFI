{
 "cells": [
  {
   "cell_type": "markdown",
   "metadata": {},
   "source": [
    "# Asian Call\n",
    "\n",
    "@Author: Daniel Rodriguez Delgado\n",
    "\n",
    "@Date: 28/01/2019"
   ]
  },
  {
   "cell_type": "code",
   "execution_count": 1,
   "metadata": {},
   "outputs": [],
   "source": [
    "from math import *\n",
    "import numpy as np\n",
    "import pandas as pd\n",
    "from scipy.stats import kurtosis, skew, pearsonr, norm, t\n",
    "import matplotlib.pyplot as plt\n",
    "import matplotlib.mlab as mlab\n",
    "class color:\n",
    "   PURPLE = '\\033[95m'\n",
    "   CYAN = '\\033[96m'\n",
    "   DARKCYAN = '\\033[36m'\n",
    "   BLUE = '\\033[94m'\n",
    "   GREEN = '\\033[92m'\n",
    "   YELLOW = '\\033[93m'\n",
    "   RED = '\\033[91m'\n",
    "   BOLD = '\\033[1m'\n",
    "   UNDERLINE = '\\033[4m'\n",
    "   END = '\\033[0m'\n"
   ]
  },
  {
   "cell_type": "markdown",
   "metadata": {},
   "source": [
    "## 1. Pseudo-random number generators"
   ]
  },
  {
   "cell_type": "code",
   "execution_count": 2,
   "metadata": {},
   "outputs": [],
   "source": [
    "def congru(seed, m=((2**31)-1), a=16807, b=0):\n",
    "        y=(a*seed+b)%m\n",
    "        u=y/m\n",
    "        return(u, y)\n",
    "    \n",
    "def boxmuller(seed, mu=0, sigma=1):\n",
    "    u1, seed=congru(seed)    #Uniform inputs\n",
    "    u2, seed=congru(seed)\n",
    "    \n",
    "    x=sqrt(-2*log(u1))*cos(2*pi*u2)*sigma+mu  #Gaussian numbers generation\n",
    "    y=sqrt(-2*log(u1))*sin(2*pi*u2)*sigma+mu\n",
    "    \n",
    "    antx=sqrt(-2*log(1-u1))*cos(2*pi*(1-u2))*sigma+mu  #Antithetic numbers generation\n",
    "    anty=sqrt(-2*log(1-u1))*sin(2*pi*(1-u2))*sigma+mu\n",
    "    return(x, y, u1, u2, antx, anty, seed)\n",
    "\n",
    "\n",
    "def marsaglia(seed, mu=0, sigma=1, mode='normal'):\n",
    "    \n",
    "    while True:\n",
    "        if mode=='normal':\n",
    "            u1, seed= congru(seed)\n",
    "            u2, seed= congru(seed)\n",
    "            v1=2*u1-1\n",
    "            v2=2*u2-1\n",
    "            R2=v1**2+v2**2\n",
    "            if R2<=1:\n",
    "                y=sqrt(-2*log(R2)/R2)\n",
    "                x1=v1*y*sigma+mu\n",
    "                x2=v2*y*sigma+mu\n",
    "                break\n",
    "        if mode=='antithetic':\n",
    "            u1, seed= congru(seed)\n",
    "            u2, seed= congru(seed)\n",
    "            v1=2*(1-u1)-1\n",
    "            v2=2*(1-u2)-1\n",
    "            R2=v1**2+v2**2\n",
    "            if R2<=1:\n",
    "                y=sqrt(-2*log(R2)/R2)\n",
    "                x1=v1*y*sigma+mu\n",
    "                x2=v2*y*sigma+mu\n",
    "                break\n",
    "        \n",
    "    return(x1,x2,seed)\n",
    "\n",
    "# Gamma distribution random generator\n",
    "def gamma (p, a, seed):\n",
    "    v=[]\n",
    "    for i in range(p):\n",
    "        u, seed= congru(seed)\n",
    "        v.append(log(u))\n",
    "    x=-sum(v)/a\n",
    "    return(x, seed)\n",
    "\n",
    "\n",
    "# Chi^2 distribution random generator\n",
    "def chisq (n, seed):\n",
    "    if (n%2==0):\n",
    "        g, seed=gamma(int(n/2), 1/2, seed)\n",
    "        return(g, seed)\n",
    "    else:\n",
    "        g, seed=gamma(int((n-1)/2), 1/2, seed)\n",
    "        cos1, sen1, u1, u2, antx, anty, seed = boxmuller(seed)\n",
    "        x=g+sen1**2\n",
    "    return(x, seed)\n",
    "\n",
    "# t-student distribution random generator\n",
    "def tstudent (n, seed):\n",
    "    cos1, sen1, u1, u2, antx, anty, seed=boxmuller(seed)\n",
    "    xchi, seed=chisq(n, seed)\n",
    "    x=sen1/sqrt(xchi/n)\n",
    "    return(x, seed)\n"
   ]
  },
  {
   "cell_type": "markdown",
   "metadata": {},
   "source": [
    "## 2. Random numbers"
   ]
  },
  {
   "cell_type": "code",
   "execution_count": 56,
   "metadata": {},
   "outputs": [],
   "source": [
    "N=12012\n",
    "BMsen=[]\n",
    "seed=123456789\n",
    "\n",
    "for i in range(N):\n",
    "    x, y, u1, u2, antx, anty, seed = boxmuller(seed, mu=0, sigma=1)\n",
    "    BMsen.append(y)\n"
   ]
  },
  {
   "cell_type": "markdown",
   "metadata": {},
   "source": [
    "## 3. Initial Data"
   ]
  },
  {
   "cell_type": "code",
   "execution_count": 57,
   "metadata": {},
   "outputs": [],
   "source": [
    "# Underlying price at the begining\n",
    "S0=14\n",
    "# Strike price\n",
    "Str=14\n",
    "\n",
    "# Yearly and continous return\n",
    "ry=0.03\n",
    "rc=log(1+ry)\n",
    "\n",
    "# Yearly and continuos discount rate\n",
    "dy=0\n",
    "dc=log(1+dy)\n",
    "\n",
    "# Volatility\n",
    "sig=0.3\n",
    "#Period\n",
    "T=1"
   ]
  },
  {
   "cell_type": "markdown",
   "metadata": {},
   "source": [
    "## 4. Pricing asian call"
   ]
  },
  {
   "cell_type": "markdown",
   "metadata": {},
   "source": [
    "This time, the equation used to get an approximation of asian put and asian call was the following:\n",
    "\\begin{equation}\n",
    "S \\leftarrow S(1+r-d)^{\\Delta t}+\\sigma S \\sqrt{\\Delta t}\\cdot \\mathcal{N}(0,1)\n",
    "\\end{equation}\n",
    "\n",
    "As well the pay-off has been calculated by getting de average of it along the 12 months period."
   ]
  },
  {
   "cell_type": "code",
   "execution_count": 58,
   "metadata": {
    "scrolled": true
   },
   "outputs": [
    {
     "name": "stdout",
     "output_type": "stream",
     "text": [
      "\n",
      "\u001b[1mMetrics for call option:\n"
     ]
    },
    {
     "data": {
      "text/html": [
       "<div>\n",
       "<style scoped>\n",
       "    .dataframe tbody tr th:only-of-type {\n",
       "        vertical-align: middle;\n",
       "    }\n",
       "\n",
       "    .dataframe tbody tr th {\n",
       "        vertical-align: top;\n",
       "    }\n",
       "\n",
       "    .dataframe thead th {\n",
       "        text-align: right;\n",
       "    }\n",
       "</style>\n",
       "<table border=\"1\" class=\"dataframe\">\n",
       "  <thead>\n",
       "    <tr style=\"text-align: right;\">\n",
       "      <th></th>\n",
       "      <th>Pay-off</th>\n",
       "      <th>Value</th>\n",
       "    </tr>\n",
       "  </thead>\n",
       "  <tbody>\n",
       "    <tr>\n",
       "      <th>mean</th>\n",
       "      <td>1.249563</td>\n",
       "      <td>1.213168</td>\n",
       "    </tr>\n",
       "    <tr>\n",
       "      <th>variance</th>\n",
       "      <td>3.442186</td>\n",
       "      <td>3.244590</td>\n",
       "    </tr>\n",
       "    <tr>\n",
       "      <th>accuracy</th>\n",
       "      <td>0.115131</td>\n",
       "      <td>0.111777</td>\n",
       "    </tr>\n",
       "  </tbody>\n",
       "</table>\n",
       "</div>"
      ],
      "text/plain": [
       "           Pay-off     Value\n",
       "mean      1.249563  1.213168\n",
       "variance  3.442186  3.244590\n",
       "accuracy  0.115131  0.111777"
      ]
     },
     "metadata": {},
     "output_type": "display_data"
    },
    {
     "name": "stdout",
     "output_type": "stream",
     "text": [
      "\n",
      "\u001b[1mMetrics for put option:\n"
     ]
    },
    {
     "data": {
      "text/html": [
       "<div>\n",
       "<style scoped>\n",
       "    .dataframe tbody tr th:only-of-type {\n",
       "        vertical-align: middle;\n",
       "    }\n",
       "\n",
       "    .dataframe tbody tr th {\n",
       "        vertical-align: top;\n",
       "    }\n",
       "\n",
       "    .dataframe thead th {\n",
       "        text-align: right;\n",
       "    }\n",
       "</style>\n",
       "<table border=\"1\" class=\"dataframe\">\n",
       "  <thead>\n",
       "    <tr style=\"text-align: right;\">\n",
       "      <th></th>\n",
       "      <th>Pay-off</th>\n",
       "      <th>Value</th>\n",
       "    </tr>\n",
       "  </thead>\n",
       "  <tbody>\n",
       "    <tr>\n",
       "      <th>mean</th>\n",
       "      <td>0.860521</td>\n",
       "      <td>0.835457</td>\n",
       "    </tr>\n",
       "    <tr>\n",
       "      <th>variance</th>\n",
       "      <td>1.514415</td>\n",
       "      <td>1.427482</td>\n",
       "    </tr>\n",
       "    <tr>\n",
       "      <th>accuracy</th>\n",
       "      <td>0.022034</td>\n",
       "      <td>0.021392</td>\n",
       "    </tr>\n",
       "  </tbody>\n",
       "</table>\n",
       "</div>"
      ],
      "text/plain": [
       "           Pay-off     Value\n",
       "mean      0.860521  0.835457\n",
       "variance  1.514415  1.427482\n",
       "accuracy  0.022034  0.021392"
      ]
     },
     "metadata": {},
     "output_type": "display_data"
    }
   ],
   "source": [
    "d=12\n",
    "dt=T/d\n",
    "\n",
    "tM=np.empty((0,12))\n",
    "# Expected pay-off for 12 months and 1000 simulations\n",
    "payoff12c=[]\n",
    "payoff12p=[]\n",
    "\n",
    "for index, iem in enumerate(range(1,1001)):\n",
    "    tm=[]\n",
    "    j=index\n",
    "    for i in range(d):\n",
    "        if (i<1):\n",
    "            te=S0*(1+ry-dc)**dt+sig*S0*np.sqrt(dt)* BMsen[i+j*12]\n",
    "            tm.append(te)\n",
    "#             display(BMsen[i],S0,ry,dc,dt,sig)\n",
    "        else:\n",
    "#             display(BMsen[i],te,ry,dc,dt,sig)\n",
    "            te=te*(1+ry-dc)**dt+sig*te*np.sqrt(dt)* BMsen[i+j*12]\n",
    "            tm.append(te)\n",
    "            \n",
    "    tm=np.array(tm)    \n",
    "    tM=np.vstack((tM,tm))\n",
    "    \n",
    "    if (np.mean(tm)>Str):\n",
    "        payoff12c.append(np.mean(tm)-Str)\n",
    "        payoff12p.append(0)\n",
    "    else:\n",
    "        payoff12c.append(0)\n",
    "        payoff12p.append(Str-np.mean(tm))\n",
    "\n",
    "# Pay-off 12 months metrics for call option\n",
    "po12AVGc=np.mean(payoff12c)\n",
    "po12VARc=np.var(payoff12c, ddof=1)\n",
    "po12ACCc=t.ppf(1-0.05/2,len(tM))*np.sqrt(po12VARc/1000)\n",
    "\n",
    "val12AVGc=po12AVGc*np.exp(-rc*T)\n",
    "val12VARc=po12VARc*np.exp(-2*rc*T)\n",
    "val12ACCc=t.ppf(1-0.05/2,len(tM))*np.sqrt(val12VARc/1000)\n",
    "\n",
    "index=['mean', 'variance', 'accuracy']\n",
    "metricsc=pd.DataFrame({\n",
    "                      'Pay-off': np.array([po12AVGc, po12VARc, po12ACCc]),\n",
    "                      'Value': np.array([val12AVGc, val12VARc, val12ACCc])\n",
    "                    }, index=index)\n",
    "\n",
    "\n",
    "# Pay-off 12 months metrics for put option\n",
    "po12AVGp=np.mean(payoff12p)\n",
    "po12VARp=np.var(payoff12p, ddof=1)\n",
    "po12ACCp=t.ppf(1-0.05/2,len(tM))*np.sqrt(po12VARp/N)\n",
    "\n",
    "val12AVGp=po12AVGp*np.exp(-rc*T)\n",
    "val12VARp=po12VARp*np.exp(-2*rc*T)\n",
    "val12ACCp=t.ppf(1-0.05/2,len(tM))*np.sqrt(val12VARp/N)\n",
    "\n",
    "index=['mean', 'variance', 'accuracy']\n",
    "metricsp=pd.DataFrame({\n",
    "                      'Pay-off': np.array([po12AVGp, po12VARp, po12ACCp]),\n",
    "                      'Value': np.array([val12AVGp, val12VARp, val12ACCp])\n",
    "                    }, index=index)\n",
    "\n",
    "print('')\n",
    "print(color.BOLD + 'Metrics for call option:')\n",
    "display( metricsc)\n",
    "print('')\n",
    "print(color.BOLD + 'Metrics for put option:')\n",
    "display(metricsp)"
   ]
  },
  {
   "cell_type": "code",
   "execution_count": null,
   "metadata": {},
   "outputs": [],
   "source": []
  }
 ],
 "metadata": {
  "kernelspec": {
   "display_name": "Python 3",
   "language": "python",
   "name": "python3"
  },
  "language_info": {
   "codemirror_mode": {
    "name": "ipython",
    "version": 3
   },
   "file_extension": ".py",
   "mimetype": "text/x-python",
   "name": "python",
   "nbconvert_exporter": "python",
   "pygments_lexer": "ipython3",
   "version": "3.7.2"
  }
 },
 "nbformat": 4,
 "nbformat_minor": 2
}
