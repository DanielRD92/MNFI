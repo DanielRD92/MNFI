{
 "cells": [
  {
   "cell_type": "markdown",
   "metadata": {},
   "source": [
    "# Pricing vanilla call option using t-student random numbers\n",
    "@Author: Daniel Rodriguez Delgado \n",
    "\n",
    "@Date: 19/01/2019\n"
   ]
  },
  {
   "cell_type": "markdown",
   "metadata": {},
   "source": [
    "This assingment is very similar to the last one, \"Hands-on blackshcoles model\" but with the difference t-student numbers are used instead of gaussian ones. As well, the equation that is as follows:\n",
    "\n",
    "\\begin{equation}\n",
    "S\\leftarrow S\\cdot e^{(r_c-d_c)\\Delta t} +\\sigma \\cdot S\\sqrt{\\Delta t}\\cdot \\frac{t_n}{\\sqrt{n / (n-2)}}\n",
    "\\end{equation}\n"
   ]
  },
  {
   "cell_type": "markdown",
   "metadata": {},
   "source": [
    "As the t-student distribution applies a variance adjusted to its degrees of freedom, it's needed to standarize the variance as shown in the equation above\n"
   ]
  },
  {
   "cell_type": "markdown",
   "metadata": {},
   "source": [
    "## 1. Pseudo-random number generators"
   ]
  },
  {
   "cell_type": "code",
   "execution_count": 9,
   "metadata": {},
   "outputs": [],
   "source": [
    "from math import *\n",
    "import numpy as np\n",
    "import pandas as pd\n",
    "from scipy.stats import kurtosis, skew, pearsonr, norm, t\n",
    "import matplotlib.pyplot as plt\n",
    "import matplotlib.mlab as mlab\n",
    "class color:\n",
    "   PURPLE = '\\033[95m'\n",
    "   CYAN = '\\033[96m'\n",
    "   DARKCYAN = '\\033[36m'\n",
    "   BLUE = '\\033[94m'\n",
    "   GREEN = '\\033[92m'\n",
    "   YELLOW = '\\033[93m'\n",
    "   RED = '\\033[91m'\n",
    "   BOLD = '\\033[1m'\n",
    "   UNDERLINE = '\\033[4m'\n",
    "   END = '\\033[0m'\n"
   ]
  },
  {
   "cell_type": "markdown",
   "metadata": {},
   "source": [
    "### 1.1 Congruential"
   ]
  },
  {
   "cell_type": "code",
   "execution_count": 2,
   "metadata": {},
   "outputs": [],
   "source": [
    "def congru(seed, m=((2**31)-1), a=16807, b=0):\n",
    "        y=(a*seed+b)%m\n",
    "        u=y/m\n",
    "        return(u, y)"
   ]
  },
  {
   "cell_type": "markdown",
   "metadata": {},
   "source": [
    "### 1.2 Box-Muller"
   ]
  },
  {
   "cell_type": "code",
   "execution_count": 3,
   "metadata": {},
   "outputs": [],
   "source": [
    "def boxmuller(seed, mu=0, sigma=1):\n",
    "    u1, seed=congru(seed)    #Uniform inputs\n",
    "    u2, seed=congru(seed)\n",
    "    \n",
    "    x=sqrt(-2*log(u1))*cos(2*pi*u2)*sigma+mu  #Gaussian numbers generation\n",
    "    y=sqrt(-2*log(u1))*sin(2*pi*u2)*sigma+mu\n",
    "    \n",
    "    antx=sqrt(-2*log(1-u1))*cos(2*pi*(1-u2))*sigma+mu  #Antithetic numbers generation\n",
    "    anty=sqrt(-2*log(1-u1))*sin(2*pi*(1-u2))*sigma+mu\n",
    "    return(x, y, u1, u2, antx, anty, seed)"
   ]
  },
  {
   "cell_type": "markdown",
   "metadata": {},
   "source": [
    "### 1.3 Marsaglia"
   ]
  },
  {
   "cell_type": "code",
   "execution_count": 4,
   "metadata": {},
   "outputs": [],
   "source": [
    "def marsaglia(seed, mu=0, sigma=1, mode='normal'):\n",
    "    \n",
    "    while True:\n",
    "        if mode=='normal':\n",
    "            u1, seed= congru(seed)\n",
    "            u2, seed= congru(seed)\n",
    "            v1=2*u1-1\n",
    "            v2=2*u2-1\n",
    "            R2=v1**2+v2**2\n",
    "            if R2<=1:\n",
    "                y=sqrt(-2*log(R2)/R2)\n",
    "                x1=v1*y*sigma+mu\n",
    "                x2=v2*y*sigma+mu\n",
    "                break\n",
    "        if mode=='antithetic':\n",
    "            u1, seed= congru(seed)\n",
    "            u2, seed= congru(seed)\n",
    "            v1=2*(1-u1)-1\n",
    "            v2=2*(1-u2)-1\n",
    "            R2=v1**2+v2**2\n",
    "            if R2<=1:\n",
    "                y=sqrt(-2*log(R2)/R2)\n",
    "                x1=v1*y*sigma+mu\n",
    "                x2=v2*y*sigma+mu\n",
    "                break\n",
    "        \n",
    "    return(x1,x2,seed)"
   ]
  },
  {
   "cell_type": "markdown",
   "metadata": {},
   "source": [
    "### 1.4 Gamma"
   ]
  },
  {
   "cell_type": "code",
   "execution_count": 11,
   "metadata": {},
   "outputs": [],
   "source": [
    "def gamma (p, a, seed):\n",
    "    v=[]\n",
    "    for i in range(p):\n",
    "        u, seed= congru(seed)\n",
    "        v.append(log(u))\n",
    "    x=-sum(v)/a\n",
    "    return(x, seed)"
   ]
  },
  {
   "cell_type": "markdown",
   "metadata": {},
   "source": [
    "### 1.5 Chi-square"
   ]
  },
  {
   "cell_type": "code",
   "execution_count": 6,
   "metadata": {},
   "outputs": [],
   "source": [
    "# Chi^2 distribution random generator\n",
    "def chisq (n, seed):\n",
    "    if (n%2==0):\n",
    "        g, seed=gamma(int(n/2), 1/2, seed)\n",
    "        return(g, seed)\n",
    "    else:\n",
    "        g, seed=gamma(int((n-1)/2), 1/2, seed)\n",
    "        cos1, sen1, u1, u2, antx, anty, seed = boxmuller(seed)\n",
    "        x=g+sen1**2\n",
    "    return(x, seed)"
   ]
  },
  {
   "cell_type": "markdown",
   "metadata": {},
   "source": [
    "### 1.6 T-Student"
   ]
  },
  {
   "cell_type": "code",
   "execution_count": 7,
   "metadata": {},
   "outputs": [],
   "source": [
    "def tstudent (n, seed):\n",
    "    cos1, sen1, u1, u2, antx, anty, seed=boxmuller(seed)\n",
    "    xchi, seed=chisq(n, seed)\n",
    "    x=sen1/sqrt(xchi/n)\n",
    "    return(x, seed)"
   ]
  },
  {
   "cell_type": "markdown",
   "metadata": {},
   "source": [
    "## 2. Random numbers"
   ]
  },
  {
   "cell_type": "markdown",
   "metadata": {},
   "source": [
    "In this section, 1k random numbers according to t-student distribution."
   ]
  },
  {
   "cell_type": "markdown",
   "metadata": {},
   "source": [
    "### 2.1 T-student method"
   ]
  },
  {
   "cell_type": "code",
   "execution_count": 26,
   "metadata": {},
   "outputs": [],
   "source": [
    "N=12011\n",
    "n=6\n",
    "res=[]\n",
    "seed=123456789\n",
    "\n",
    "for i in range(N):\n",
    "    x, seed=tstudent(n,seed)\n",
    "    res.append(x)    \n",
    "\n"
   ]
  },
  {
   "cell_type": "code",
   "execution_count": 27,
   "metadata": {},
   "outputs": [
    {
     "data": {
      "text/plain": [
       "0.004507142959627083"
      ]
     },
     "metadata": {},
     "output_type": "display_data"
    },
    {
     "data": {
      "text/plain": [
       "1.4490458996509283"
      ]
     },
     "metadata": {},
     "output_type": "display_data"
    }
   ],
   "source": [
    "display(np.mean(res),np.var(res))\n"
   ]
  },
  {
   "cell_type": "markdown",
   "metadata": {},
   "source": [
    "## 3. Initial data"
   ]
  },
  {
   "cell_type": "code",
   "execution_count": 28,
   "metadata": {},
   "outputs": [],
   "source": [
    "# Underlying price at the begining\n",
    "S0=14\n",
    "# Strike price\n",
    "Str=14\n",
    "\n",
    "# Yearly and continous return\n",
    "ry=0.03\n",
    "rc=log(1+ry)\n",
    "\n",
    "# Yearly and continuos discount rate\n",
    "dy=0\n",
    "dc=log(1+dy)\n",
    "\n",
    "# Volatility\n",
    "sig=0.3\n",
    "#Period\n",
    "T=1"
   ]
  },
  {
   "cell_type": "markdown",
   "metadata": {},
   "source": [
    "## 4. Pricing"
   ]
  },
  {
   "cell_type": "markdown",
   "metadata": {},
   "source": [
    "Using dynamic simulation with $\\Delta t =1/12$ and stochastic equation:\n",
    "\\begin{equation}\n",
    "S\\leftarrow S\\cdot e^{(r_c-d_c)\\Delta t} +\\sigma \\cdot S\\sqrt{t}\\cdot \\frac{t_s}{\\sqrt{n/(n-2)}}\n",
    "\\end{equation}"
   ]
  },
  {
   "cell_type": "code",
   "execution_count": 30,
   "metadata": {},
   "outputs": [
    {
     "name": "stdout",
     "output_type": "stream",
     "text": [
      "\n",
      "\u001b[1mMetrics for call option:\n"
     ]
    },
    {
     "data": {
      "text/html": [
       "<div>\n",
       "<style scoped>\n",
       "    .dataframe tbody tr th:only-of-type {\n",
       "        vertical-align: middle;\n",
       "    }\n",
       "\n",
       "    .dataframe tbody tr th {\n",
       "        vertical-align: top;\n",
       "    }\n",
       "\n",
       "    .dataframe thead th {\n",
       "        text-align: right;\n",
       "    }\n",
       "</style>\n",
       "<table border=\"1\" class=\"dataframe\">\n",
       "  <thead>\n",
       "    <tr style=\"text-align: right;\">\n",
       "      <th></th>\n",
       "      <th>Pay-off</th>\n",
       "      <th>Value</th>\n",
       "    </tr>\n",
       "  </thead>\n",
       "  <tbody>\n",
       "    <tr>\n",
       "      <th>mean</th>\n",
       "      <td>1.895378</td>\n",
       "      <td>1.840173</td>\n",
       "    </tr>\n",
       "    <tr>\n",
       "      <th>variance</th>\n",
       "      <td>8.666691</td>\n",
       "      <td>8.169188</td>\n",
       "    </tr>\n",
       "    <tr>\n",
       "      <th>accuracy</th>\n",
       "      <td>0.182684</td>\n",
       "      <td>0.177363</td>\n",
       "    </tr>\n",
       "  </tbody>\n",
       "</table>\n",
       "</div>"
      ],
      "text/plain": [
       "           Pay-off     Value\n",
       "mean      1.895378  1.840173\n",
       "variance  8.666691  8.169188\n",
       "accuracy  0.182684  0.177363"
      ]
     },
     "metadata": {},
     "output_type": "display_data"
    },
    {
     "name": "stdout",
     "output_type": "stream",
     "text": [
      "\n",
      "\u001b[1mMetrics for put option:\n"
     ]
    },
    {
     "data": {
      "text/html": [
       "<div>\n",
       "<style scoped>\n",
       "    .dataframe tbody tr th:only-of-type {\n",
       "        vertical-align: middle;\n",
       "    }\n",
       "\n",
       "    .dataframe tbody tr th {\n",
       "        vertical-align: top;\n",
       "    }\n",
       "\n",
       "    .dataframe thead th {\n",
       "        text-align: right;\n",
       "    }\n",
       "</style>\n",
       "<table border=\"1\" class=\"dataframe\">\n",
       "  <thead>\n",
       "    <tr style=\"text-align: right;\">\n",
       "      <th></th>\n",
       "      <th>Pay-off</th>\n",
       "      <th>Value</th>\n",
       "    </tr>\n",
       "  </thead>\n",
       "  <tbody>\n",
       "    <tr>\n",
       "      <th>mean</th>\n",
       "      <td>1.440439</td>\n",
       "      <td>1.398484</td>\n",
       "    </tr>\n",
       "    <tr>\n",
       "      <th>variance</th>\n",
       "      <td>3.929038</td>\n",
       "      <td>3.703495</td>\n",
       "    </tr>\n",
       "    <tr>\n",
       "      <th>accuracy</th>\n",
       "      <td>0.123003</td>\n",
       "      <td>0.119421</td>\n",
       "    </tr>\n",
       "  </tbody>\n",
       "</table>\n",
       "</div>"
      ],
      "text/plain": [
       "           Pay-off     Value\n",
       "mean      1.440439  1.398484\n",
       "variance  3.929038  3.703495\n",
       "accuracy  0.123003  0.119421"
      ]
     },
     "metadata": {},
     "output_type": "display_data"
    }
   ],
   "source": [
    "d=12\n",
    "dt=T/d\n",
    "\n",
    "tM=np.empty((0,12))\n",
    "# Expected pay-off for 12 months and 1000 simulations\n",
    "payoff12c=[]\n",
    "payoff12p=[]\n",
    "\n",
    "for index, iem in enumerate(range(1,1001)):\n",
    "    tm=[]\n",
    "    j=index+1\n",
    "    for i in range(d):\n",
    "        if (i<1):\n",
    "            te=S0*np.exp((rc-dc)*dt)+sig*S0*np.sqrt(dt)* (res[(j-1)*d+i]/np.sqrt(n/(n-2)))\n",
    "            tm.append(te)\n",
    "        else:\n",
    "            te=te*np.exp((rc-dc)*dt)+sig*te*np.sqrt(dt)* (res[(j-1)*d+i]/np.sqrt(n/(n-2)))\n",
    "            tm.append(te)\n",
    "    tm=np.array(tm)    \n",
    "    tM=np.vstack((tM,tm))\n",
    "    \n",
    "    if (tm[d-1]>Str):\n",
    "        payoff12c.append(tm[d-1]-Str)\n",
    "        payoff12p.append(0)\n",
    "    else:\n",
    "        payoff12c.append(0)\n",
    "        payoff12p.append(Str-tm[d-1])\n",
    "\n",
    "# Pay-off 12 months metrics for call option\n",
    "po12AVGc=np.mean(payoff12c)\n",
    "po12VARc=np.var(payoff12c, ddof=1)\n",
    "po12ACCc=t.ppf(1-0.05/2,len(tM))*np.sqrt(po12VARc/1000)\n",
    "\n",
    "val12AVGc=po12AVGc*np.exp(-rc*T)\n",
    "val12VARc=po12VARc*np.exp(-2*rc*T)\n",
    "val12ACCc=t.ppf(1-0.05/2,len(tM))*np.sqrt(val12VARc/1000)\n",
    "\n",
    "index=['mean', 'variance', 'accuracy']\n",
    "metricsc=pd.DataFrame({\n",
    "                      'Pay-off': np.array([po12AVGc, po12VARc, po12ACCc]),\n",
    "                      'Value': np.array([val12AVGc, val12VARc, val12ACCc])\n",
    "                    }, index=index)\n",
    "\n",
    "\n",
    "# Pay-off 12 months metrics for put option\n",
    "po12AVGp=np.mean(payoff12p)\n",
    "po12VARp=np.var(payoff12p, ddof=1)\n",
    "po12ACCp=t.ppf(1-0.05/2,len(tM))*np.sqrt(po12VARp/1000)\n",
    "\n",
    "val12AVGp=po12AVGp*np.exp(-rc*T)\n",
    "val12VARp=po12VARp*np.exp(-2*rc*T)\n",
    "val12ACCp=t.ppf(1-0.05/2,len(tM))*np.sqrt(val12VARp/1000)\n",
    "\n",
    "index=['mean', 'variance', 'accuracy']\n",
    "metricsp=pd.DataFrame({\n",
    "                      'Pay-off': np.array([po12AVGp, po12VARp, po12ACCp]),\n",
    "                      'Value': np.array([val12AVGp, val12VARp, val12ACCp])\n",
    "                    }, index=index)\n",
    "\n",
    "print('')\n",
    "print(color.BOLD + 'Metrics for call option:')\n",
    "display( metricsc)\n",
    "print('')\n",
    "print(color.BOLD + 'Metrics for put option:')\n",
    "display(metricsp)"
   ]
  },
  {
   "cell_type": "code",
   "execution_count": null,
   "metadata": {},
   "outputs": [],
   "source": [
    "\n"
   ]
  }
 ],
 "metadata": {
  "kernelspec": {
   "display_name": "Python 3",
   "language": "python",
   "name": "python3"
  },
  "language_info": {
   "codemirror_mode": {
    "name": "ipython",
    "version": 3
   },
   "file_extension": ".py",
   "mimetype": "text/x-python",
   "name": "python",
   "nbconvert_exporter": "python",
   "pygments_lexer": "ipython3",
   "version": "3.7.2"
  }
 },
 "nbformat": 4,
 "nbformat_minor": 2
}
