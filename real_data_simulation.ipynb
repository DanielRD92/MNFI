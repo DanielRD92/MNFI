{
 "cells": [
  {
   "cell_type": "markdown",
   "metadata": {},
   "source": [
    "# Real Data Simulation\n",
    "\n",
    "@Author: Daniel Rodríguez Delgado\n",
    "\n",
    "@Date: 02/09/2019"
   ]
  },
  {
   "cell_type": "code",
   "execution_count": 6,
   "metadata": {},
   "outputs": [],
   "source": [
    "from alpha_vantage.timeseries import TimeSeries\n",
    "ts=TimeSeries(key='FT8ZMTO1NJSILIKB', output_format='pandas')\n",
    "import time\n",
    "import pandas as pd\n",
    "import numpy as np\n",
    "from math import *\n",
    "from scipy.stats import kurtosis, skew, pearsonr, norm, t\n",
    "import matplotlib.pyplot as plt\n",
    "import matplotlib.mlab as mlab\n",
    "class color:\n",
    "   PURPLE = '\\033[95m'\n",
    "   CYAN = '\\033[96m'\n",
    "   DARKCYAN = '\\033[36m'\n",
    "   BLUE = '\\033[94m'\n",
    "   GREEN = '\\033[92m'\n",
    "   YELLOW = '\\033[93m'\n",
    "   RED = '\\033[91m'\n",
    "   BOLD = '\\033[1m'\n",
    "   UNDERLINE = '\\033[4m'\n",
    "   END = '\\033[0m'\n"
   ]
  },
  {
   "cell_type": "markdown",
   "metadata": {},
   "source": [
    "## 1. Pseudo-random number generators"
   ]
  },
  {
   "cell_type": "code",
   "execution_count": 7,
   "metadata": {},
   "outputs": [],
   "source": [
    "def congru(seed, m=((2**31)-1), a=16807, b=0):\n",
    "        y=(a*seed+b)%m\n",
    "        u=y/m\n",
    "        return(u, y)\n",
    "    \n",
    "def boxmuller(seed, mu=0, sigma=1):\n",
    "    u1, seed=congru(seed)    #Uniform inputs\n",
    "    u2, seed=congru(seed)\n",
    "    \n",
    "    x=sqrt(-2*log(u1))*cos(2*pi*u2)*sigma+mu  #Gaussian numbers generation\n",
    "    y=sqrt(-2*log(u1))*sin(2*pi*u2)*sigma+mu\n",
    "    \n",
    "    antx=sqrt(-2*log(1-u1))*cos(2*pi*(1-u2))*sigma+mu  #Antithetic numbers generation\n",
    "    anty=sqrt(-2*log(1-u1))*sin(2*pi*(1-u2))*sigma+mu\n",
    "    return(x, y, u1, u2, antx, anty, seed)\n",
    "\n",
    "\n",
    "def marsaglia(seed, mu=0, sigma=1, mode='normal'):\n",
    "    \n",
    "    while True:\n",
    "        if mode=='normal':\n",
    "            u1, seed= congru(seed)\n",
    "            u2, seed= congru(seed)\n",
    "            v1=2*u1-1\n",
    "            v2=2*u2-1\n",
    "            R2=v1**2+v2**2\n",
    "            if R2<=1:\n",
    "                y=sqrt(-2*log(R2)/R2)\n",
    "                x1=v1*y*sigma+mu\n",
    "                x2=v2*y*sigma+mu\n",
    "                break\n",
    "        if mode=='antithetic':\n",
    "            u1, seed= congru(seed)\n",
    "            u2, seed= congru(seed)\n",
    "            v1=2*(1-u1)-1\n",
    "            v2=2*(1-u2)-1\n",
    "            R2=v1**2+v2**2\n",
    "            if R2<=1:\n",
    "                y=sqrt(-2*log(R2)/R2)\n",
    "                x1=v1*y*sigma+mu\n",
    "                x2=v2*y*sigma+mu\n",
    "                break\n",
    "        \n",
    "    return(x1,x2,seed)\n",
    "\n",
    "# Gamma distribution random generator\n",
    "def gamma (p, a, seed):\n",
    "    v=[]\n",
    "    for i in range(p):\n",
    "        u, seed= congru(seed)\n",
    "        v.append(log(u))\n",
    "    x=-sum(v)/a\n",
    "    return(x, seed)\n",
    "\n",
    "\n",
    "# Chi^2 distribution random generator\n",
    "def chisq (n, seed):\n",
    "    if (n%2==0):\n",
    "        g, seed=gamma(int(n/2), 1/2, seed)\n",
    "        return(g, seed)\n",
    "    else:\n",
    "        g, seed=gamma(int((n-1)/2), 1/2, seed)\n",
    "        cos1, sen1, u1, u2, antx, anty, seed = boxmuller(seed)\n",
    "        x=g+sen1**2\n",
    "    return(x, seed)\n",
    "\n",
    "# t-student distribution random generator\n",
    "def tstudent (n, seed):\n",
    "    cos1, sen1, u1, u2, antx, anty, seed=boxmuller(seed)\n",
    "    xchi, seed=chisq(n, seed)\n",
    "    x=sen1/sqrt(xchi/n)\n",
    "    return(x, seed)\n"
   ]
  },
  {
   "cell_type": "markdown",
   "metadata": {},
   "source": [
    "## 2. Data load"
   ]
  },
  {
   "cell_type": "code",
   "execution_count": 12,
   "metadata": {},
   "outputs": [
    {
     "name": "stdout",
     "output_type": "stream",
     "text": [
      "AAPL\n",
      "AMZN\n",
      "ALXN\n",
      "NFLX\n",
      "EXPE\n",
      "PYPL\n",
      "TSLA\n"
     ]
    },
    {
     "ename": "KeyError",
     "evalue": "'Time Series (Daily)'",
     "output_type": "error",
     "traceback": [
      "\u001b[1;31m---------------------------------------------------------------------------\u001b[0m",
      "\u001b[1;31mKeyError\u001b[0m                                  Traceback (most recent call last)",
      "\u001b[1;32m<ipython-input-12-24295042c818>\u001b[0m in \u001b[0;36m<module>\u001b[1;34m\u001b[0m\n\u001b[0;32m     12\u001b[0m     \u001b[0mticker\u001b[0m\u001b[1;33m=\u001b[0m\u001b[0mtickers\u001b[0m\u001b[1;33m[\u001b[0m\u001b[0mi\u001b[0m\u001b[1;33m]\u001b[0m\u001b[1;33m\u001b[0m\u001b[1;33m\u001b[0m\u001b[0m\n\u001b[0;32m     13\u001b[0m     \u001b[0mprint\u001b[0m\u001b[1;33m(\u001b[0m\u001b[0mticker\u001b[0m\u001b[1;33m)\u001b[0m\u001b[1;33m\u001b[0m\u001b[1;33m\u001b[0m\u001b[0m\n\u001b[1;32m---> 14\u001b[1;33m     \u001b[0mdata\u001b[0m\u001b[1;33m,\u001b[0m \u001b[0mmeta_data\u001b[0m \u001b[1;33m=\u001b[0m \u001b[0mts\u001b[0m\u001b[1;33m.\u001b[0m\u001b[0mget_daily_adjusted\u001b[0m\u001b[1;33m(\u001b[0m\u001b[0msymbol\u001b[0m\u001b[1;33m=\u001b[0m\u001b[0mticker\u001b[0m\u001b[1;33m,\u001b[0m\u001b[0moutputsize\u001b[0m\u001b[1;33m=\u001b[0m\u001b[1;34m'full'\u001b[0m\u001b[1;33m)\u001b[0m\u001b[1;33m\u001b[0m\u001b[1;33m\u001b[0m\u001b[0m\n\u001b[0m\u001b[0;32m     15\u001b[0m \u001b[1;33m\u001b[0m\u001b[0m\n\u001b[0;32m     16\u001b[0m     \u001b[0mdivs\u001b[0m\u001b[1;33m=\u001b[0m\u001b[0mpd\u001b[0m\u001b[1;33m.\u001b[0m\u001b[0mDataFrame\u001b[0m\u001b[1;33m(\u001b[0m\u001b[0mdata\u001b[0m\u001b[1;33m[\u001b[0m\u001b[1;34m'7. dividend amount'\u001b[0m\u001b[1;33m]\u001b[0m\u001b[1;33m)\u001b[0m\u001b[1;33m\u001b[0m\u001b[1;33m\u001b[0m\u001b[0m\n",
      "\u001b[1;32mD:\\Python\\lib\\site-packages\\alpha_vantage\\alphavantage.py\u001b[0m in \u001b[0;36m_format_wrapper\u001b[1;34m(self, *args, **kwargs)\u001b[0m\n\u001b[0;32m    176\u001b[0m             \u001b[1;32mif\u001b[0m \u001b[1;34m'json'\u001b[0m \u001b[1;32min\u001b[0m \u001b[0mself\u001b[0m\u001b[1;33m.\u001b[0m\u001b[0moutput_format\u001b[0m\u001b[1;33m.\u001b[0m\u001b[0mlower\u001b[0m\u001b[1;33m(\u001b[0m\u001b[1;33m)\u001b[0m \u001b[1;32mor\u001b[0m \u001b[1;34m'pandas'\u001b[0m\u001b[0;31m \u001b[0m\u001b[0;31m\\\u001b[0m\u001b[1;33m\u001b[0m\u001b[1;33m\u001b[0m\u001b[0m\n\u001b[0;32m    177\u001b[0m                     \u001b[1;32min\u001b[0m \u001b[0mself\u001b[0m\u001b[1;33m.\u001b[0m\u001b[0moutput_format\u001b[0m\u001b[1;33m.\u001b[0m\u001b[0mlower\u001b[0m\u001b[1;33m(\u001b[0m\u001b[1;33m)\u001b[0m\u001b[1;33m:\u001b[0m\u001b[1;33m\u001b[0m\u001b[1;33m\u001b[0m\u001b[0m\n\u001b[1;32m--> 178\u001b[1;33m                 \u001b[0mdata\u001b[0m \u001b[1;33m=\u001b[0m \u001b[0mcall_response\u001b[0m\u001b[1;33m[\u001b[0m\u001b[0mdata_key\u001b[0m\u001b[1;33m]\u001b[0m\u001b[1;33m\u001b[0m\u001b[1;33m\u001b[0m\u001b[0m\n\u001b[0m\u001b[0;32m    179\u001b[0m                 \u001b[1;32mif\u001b[0m \u001b[0mmeta_data_key\u001b[0m \u001b[1;32mis\u001b[0m \u001b[1;32mnot\u001b[0m \u001b[1;32mNone\u001b[0m\u001b[1;33m:\u001b[0m\u001b[1;33m\u001b[0m\u001b[1;33m\u001b[0m\u001b[0m\n\u001b[0;32m    180\u001b[0m                     \u001b[0mmeta_data\u001b[0m \u001b[1;33m=\u001b[0m \u001b[0mcall_response\u001b[0m\u001b[1;33m[\u001b[0m\u001b[0mmeta_data_key\u001b[0m\u001b[1;33m]\u001b[0m\u001b[1;33m\u001b[0m\u001b[1;33m\u001b[0m\u001b[0m\n",
      "\u001b[1;31mKeyError\u001b[0m: 'Time Series (Daily)'"
     ]
    }
   ],
   "source": [
    "import time\n",
    "\n",
    "\n",
    "tickers=['AAPL','AMZN','ALXN','NFLX','EXPE','PYPL','TSLA','FOX']\n",
    "\n",
    "companies=pd.DataFrame()\n",
    "dividends=pd.DataFrame()\n",
    "data=pd.DataFrame()\n",
    "meta_data=pd.DataFrame()\n",
    "\n",
    "for i in range(len(tickers)):\n",
    "    ticker=tickers[i]\n",
    "    print(ticker)\n",
    "    data, meta_data = ts.get_daily_adjusted(symbol=ticker,outputsize='full')\n",
    "    \n",
    "    divs=pd.DataFrame(data['7. dividend amount'])\n",
    "    data=pd.DataFrame(data['5. adjusted close'])            \n",
    "    \n",
    "    data=data.loc['2018-08-31':'2019-01-25']\n",
    "    divs=divs.loc['2018-01-02':'2018-12-31']\n",
    "    \n",
    "    dividends=pd.concat([dividends, divs], axis=1,sort=False)\n",
    "    companies=pd.concat([companies, data], axis=1,sort=False)\n",
    "    \n",
    "    time.sleep(5)\n",
    "    \n",
    "companies.columns = tickers\n",
    "dividends.columns = tickers"
   ]
  },
  {
   "cell_type": "code",
   "execution_count": null,
   "metadata": {},
   "outputs": [],
   "source": []
  }
 ],
 "metadata": {
  "kernelspec": {
   "display_name": "Python 3",
   "language": "python",
   "name": "python3"
  },
  "language_info": {
   "codemirror_mode": {
    "name": "ipython",
    "version": 3
   },
   "file_extension": ".py",
   "mimetype": "text/x-python",
   "name": "python",
   "nbconvert_exporter": "python",
   "pygments_lexer": "ipython3",
   "version": "3.7.2"
  }
 },
 "nbformat": 4,
 "nbformat_minor": 2
}
